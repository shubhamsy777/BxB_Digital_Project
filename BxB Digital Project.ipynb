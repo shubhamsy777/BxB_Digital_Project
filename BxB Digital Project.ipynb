{
 "cells": [
  {
   "cell_type": "markdown",
   "metadata": {},
   "source": [
    "# BxB Digital Project\n",
    "\n",
    "Author: Shubham Singh Yadav\n",
    "\n",
    "Documentation regarding the approach, analysis and findings for this project is provided in a seperate file attached in the same repository on GitHub. \n",
    "\n",
    "Link to the Github Repo: "
   ]
  },
  {
   "cell_type": "markdown",
   "metadata": {},
   "source": [
    " "
   ]
  },
  {
   "cell_type": "markdown",
   "metadata": {},
   "source": [
    "### Importing Libraries"
   ]
  },
  {
   "cell_type": "code",
   "execution_count": null,
   "metadata": {
    "scrolled": true
   },
   "outputs": [],
   "source": [
    "#For working with data:\n",
    "import pandas as pd\n",
    "import numpy as np\n",
    "import matplotlib\n",
    "import matplotlib.pyplot as plt\n",
    "\n",
    "#For Scikit Learn:\n",
    "import sklearn\n",
    "import statsmodels.api as sm\n",
    "from sklearn import linear_model"
   ]
  },
  {
   "cell_type": "markdown",
   "metadata": {},
   "source": [
    " "
   ]
  },
  {
   "cell_type": "markdown",
   "metadata": {},
   "source": [
    "### Importing the Training Data"
   ]
  },
  {
   "cell_type": "code",
   "execution_count": null,
   "metadata": {},
   "outputs": [],
   "source": [
    "#Change this variable's string to your path where the data is stored \n",
    "bxb_train_file_location = r\"C:\\Users\\Bada Rock\\Downloads\\Train_data.csv\"\n",
    "\n",
    "#Creating Dataframe for the train dataset(pallets_df)\n",
    "pallets_df = pd.read_csv(bxb_train_file_location)\n",
    "\n",
    "#To check the total number of samples while getting an idea about the structure of data\n",
    "print(pallets_df.tail())"
   ]
  },
  {
   "cell_type": "code",
   "execution_count": null,
   "metadata": {},
   "outputs": [],
   "source": [
    "#Checking if any value of the DataFrame is NaN:\n",
    "pallets_df.isnull().sum()"
   ]
  },
  {
   "cell_type": "markdown",
   "metadata": {},
   "source": [
    " "
   ]
  },
  {
   "cell_type": "markdown",
   "metadata": {},
   "source": [
    "### Feature Engineering 1"
   ]
  },
  {
   "cell_type": "markdown",
   "metadata": {},
   "source": [
    "***Why?***: \n",
    "\n",
    "This is done to further allow the conversion of this Time Series problem into a Supervised Learning Problem\n",
    "\n",
    "***What?***: \n",
    "\n",
    "Breaking down the 'Month' column which contains string data as: 'mm/dd/yyyy' \n",
    "into two columns - 'Month_number' and 'Year', which just specifically contains the value of the\n",
    "Month and Year. \n",
    "\n",
    "***Dropping***: \n",
    "\n",
    "Dates as they are of no use in monthwise prediction"
   ]
  },
  {
   "cell_type": "code",
   "execution_count": null,
   "metadata": {
    "scrolled": false
   },
   "outputs": [],
   "source": [
    "#FIRST, WORKING ON THE TRAINING DATASET FIRST(pallets_df):\n",
    "#Breaking down Month's 'mm/dd/yyyy' into 3 columns:\n",
    "broken_down_df = (pallets_df['Month'].str.split('/', expand=True))\n",
    "broken_down_df.columns = ['Month_number', 'Date', 'Year']\n",
    "#Deleting the 'Date' column from this as we no longer need it: \n",
    "del broken_down_df['Date']\n",
    "\n",
    "#Concatenating this with the original 'pallets_df' dataframe and replacing the original: \n",
    "pallets_df = pd.concat((broken_down_df, pallets_df), axis=1)\n",
    "#Deleting the original 'Month' column as we no long need it\n",
    "del pallets_df['Month']\n",
    "\n",
    "#Final result after the transformations:\n",
    "print(pallets_df.tail())"
   ]
  },
  {
   "cell_type": "markdown",
   "metadata": {},
   "source": [
    " "
   ]
  },
  {
   "cell_type": "markdown",
   "metadata": {},
   "source": [
    "### Converting all the values in the DataFrame to Numeric \n"
   ]
  },
  {
   "cell_type": "markdown",
   "metadata": {},
   "source": [
    "***Why?***: \n",
    "\n",
    "Necessary as both the values of both the new columns created (Month_number and Year) are of the type 'str' because of the command 'split' used on the them."
   ]
  },
  {
   "cell_type": "code",
   "execution_count": null,
   "metadata": {
    "scrolled": true
   },
   "outputs": [],
   "source": [
    "#Type before conversion: \n",
    "print('Type of the columns before conversion: \\n', \n",
    "      type(pallets_df.Month_number.iloc[1]),\n",
    "      type(pallets_df.IssuesInMonth.iloc[1])\n",
    "     ) \n",
    "\n",
    "#Converting the whole dataframe into Numeric type: \n",
    "pallets_df = pallets_df.apply(pd.to_numeric)\n",
    "\n",
    "#Type after conversion: \n",
    "print('\\nType of the columns after conversion: \\n', \n",
    "      type(pallets_df.Month_number.iloc[1]),\n",
    "      type(pallets_df.IssuesInMonth.iloc[1])\n",
    "     ) \n"
   ]
  },
  {
   "cell_type": "markdown",
   "metadata": {},
   "source": [
    " "
   ]
  },
  {
   "cell_type": "markdown",
   "metadata": {},
   "source": [
    "### Analysis from Visualization\n",
    "\n"
   ]
  },
  {
   "cell_type": "code",
   "execution_count": null,
   "metadata": {},
   "outputs": [],
   "source": [
    "#Increasing the size of the image for better clarity:\n",
    "matplotlib.rcParams['figure.figsize'] = [16, 9]"
   ]
  },
  {
   "cell_type": "markdown",
   "metadata": {},
   "source": [
    "##### Analyzing relationship between the month and the number of Issues in that Month over the Years"
   ]
  },
  {
   "cell_type": "code",
   "execution_count": null,
   "metadata": {
    "scrolled": true
   },
   "outputs": [],
   "source": [
    "#Darker colors: Earlier Years\n",
    "#Then fades as we move to the latest years\n",
    "plt.scatter(pallets_df.Month_number, pallets_df.IssuesInMonth, c=pallets_df.Year,  marker='*')\n",
    "plt.xlabel('Month Number')\n",
    "plt.ylabel('IssuesInMonth')\n",
    "plt.gray()\n",
    "plt.show()"
   ]
  },
  {
   "cell_type": "markdown",
   "metadata": {},
   "source": [
    "##### Analyzing relationship between the Transfers in a Month and the Issues in that Month over the Years"
   ]
  },
  {
   "cell_type": "code",
   "execution_count": null,
   "metadata": {},
   "outputs": [],
   "source": [
    "#Darker colors: Earlier Years\n",
    "#Then fades as we move to the latest years\n",
    "plt.scatter(pallets_df.TransfersInMonth, pallets_df.IssuesInMonth, c=pallets_df.Year, marker='*')\n",
    "plt.xlabel('Transfers')\n",
    "plt.ylabel('IssuesInMonth')\n",
    "plt.gray()\n",
    "plt.show()"
   ]
  },
  {
   "cell_type": "markdown",
   "metadata": {},
   "source": [
    "##### Analyzing relationship between the Business Days in a Month and the Issues in that Month over the Years"
   ]
  },
  {
   "cell_type": "code",
   "execution_count": null,
   "metadata": {},
   "outputs": [],
   "source": [
    "#Darker colors: Earlier Years\n",
    "#Then fades as we move to the latest years\n",
    "plt.scatter(pallets_df.BusinessDaysInMonth, pallets_df.IssuesInMonth, c=pallets_df.Year, marker='*')\n",
    "plt.xlabel('Business Days')\n",
    "plt.ylabel('IssuesInMonth')\n",
    "plt.gray()\n",
    "plt.show()"
   ]
  },
  {
   "cell_type": "markdown",
   "metadata": {},
   "source": [
    "##### Analyzing relationship between the Year and Issues in those years with Scatter Plot"
   ]
  },
  {
   "cell_type": "code",
   "execution_count": null,
   "metadata": {
    "scrolled": true
   },
   "outputs": [],
   "source": [
    "#Darker colors: Earlier Years\n",
    "#Then fades into the latest year \n",
    "plt.scatter(pallets_df.Year, pallets_df.IssuesInMonth, c=pallets_df.Year, marker='*')\n",
    "plt.xlabel('Year')\n",
    "plt.ylabel('IssuesInMonth')\n",
    "plt.gray()\n",
    "plt.show()"
   ]
  },
  {
   "cell_type": "markdown",
   "metadata": {},
   "source": [
    "##### Analyzing the Issues and Transfers over the years- Line plot"
   ]
  },
  {
   "cell_type": "code",
   "execution_count": null,
   "metadata": {
    "scrolled": true
   },
   "outputs": [],
   "source": [
    "#Data is sorted in an increasing time order already\n",
    "plt.plot(pallets_df.IssuesInMonth, 'b', pallets_df.TransfersInMonth, 'r')"
   ]
  },
  {
   "cell_type": "markdown",
   "metadata": {},
   "source": [
    " "
   ]
  },
  {
   "cell_type": "markdown",
   "metadata": {},
   "source": [
    "### Important Conclusions"
   ]
  },
  {
   "cell_type": "markdown",
   "metadata": {},
   "source": [
    "1. Transfers and Issues: The relationship between Transfers and Issues over the years have kept on linearly increasing with each other. Also they both have kept on increasing over the years after 2010.\n",
    "\n",
    "2. Year and Issues: The relationship is mostly linear after 2010, and thus for forecasting with these 4 features, we can drop the years before 2010."
   ]
  },
  {
   "cell_type": "markdown",
   "metadata": {},
   "source": [
    " "
   ]
  },
  {
   "cell_type": "markdown",
   "metadata": {},
   "source": [
    "### Chossing the Data after 2010 to fit into a Model"
   ]
  },
  {
   "cell_type": "markdown",
   "metadata": {},
   "source": [
    "IMPORTANT: This can be done to favor a simpler model which will ultimately result in a small deviation from the true values. Also, the months into which we have to forecast the values are small as compared to the size of the training data provided. "
   ]
  },
  {
   "cell_type": "code",
   "execution_count": null,
   "metadata": {
    "scrolled": true
   },
   "outputs": [],
   "source": [
    "#Selecting the rows where Year>=2010\n",
    "pallets_df_2010 = pallets_df[pallets_df.Year >= 2010]\n",
    "print(pallets_df_2010)"
   ]
  },
  {
   "cell_type": "code",
   "execution_count": null,
   "metadata": {},
   "outputs": [],
   "source": [
    "#Resetting the Index so that it doesn't create a problem any further: \n",
    "pallets_df_2010 = pallets_df_2010.reset_index(drop=True)"
   ]
  },
  {
   "cell_type": "code",
   "execution_count": null,
   "metadata": {
    "scrolled": true
   },
   "outputs": [],
   "source": [
    "print(pallets_df_2010.tail())"
   ]
  },
  {
   "cell_type": "markdown",
   "metadata": {},
   "source": [
    " "
   ]
  },
  {
   "cell_type": "markdown",
   "metadata": {},
   "source": [
    "###  Converting the Time Series problem into Supervised Learning problem "
   ]
  },
  {
   "cell_type": "markdown",
   "metadata": {},
   "source": [
    "***Why?*** : \n",
    "\n",
    "Forecasting problem concerning time can be solved by Supervised Learning algorithms too such as SVM and other Regression Models. \n",
    "\n",
    "***How?*** : \n",
    "\n",
    "The features including the Number of Issues from the previous time step can be taken as an input in predicting the number of issues in the current month."
   ]
  },
  {
   "cell_type": "markdown",
   "metadata": {},
   "source": [
    "### Feature Engineering 2"
   ]
  },
  {
   "cell_type": "code",
   "execution_count": null,
   "metadata": {
    "scrolled": true
   },
   "outputs": [],
   "source": [
    "#Choosing rows 1-89 as the values for time step t:\n",
    "pallets_df_t = pallets_df_2010[0:89]\n",
    "print(pallets_df_t)"
   ]
  },
  {
   "cell_type": "code",
   "execution_count": null,
   "metadata": {
    "scrolled": true
   },
   "outputs": [],
   "source": [
    "#Choosing rows 2-90 as the values for time step t+1:\n",
    "pallets_df_tplusone = pallets_df_2010[1:]\n",
    "pallets_df_tplusone = pallets_df_tplusone.reset_index(drop=True)\n",
    "print(pallets_df_tplusone)"
   ]
  },
  {
   "cell_type": "code",
   "execution_count": null,
   "metadata": {
    "scrolled": true
   },
   "outputs": [],
   "source": [
    "#Changing the column names for the Dataframe which has values for time step t+1\n",
    "#to allow concatenation without a problem:\n",
    "pallets_df_tplusone.columns=['Month_number_1', 'Year_1', 'TransfersInMonth_1', 'BusinessDaysInMonth_1', 'IssuesInMonth_1']\n",
    "print(pallets_df_tplusone)"
   ]
  },
  {
   "cell_type": "code",
   "execution_count": null,
   "metadata": {
    "scrolled": true
   },
   "outputs": [],
   "source": [
    "#Checking whether both the dataframes t and t+1 have the same shape: \n",
    "print(pallets_df_t.shape)\n",
    "print(pallets_df_tplusone.shape)"
   ]
  },
  {
   "cell_type": "code",
   "execution_count": null,
   "metadata": {
    "scrolled": true
   },
   "outputs": [],
   "source": [
    "#Finally, concatenating both the dataframes side by side (axis=1):\n",
    "pallets_df_timeseries = pd.concat((pallets_df_t, pallets_df_tplusone), axis=1)\n",
    "print(pallets_df_timeseries.tail())"
   ]
  },
  {
   "cell_type": "markdown",
   "metadata": {},
   "source": [
    " "
   ]
  },
  {
   "cell_type": "markdown",
   "metadata": {},
   "source": [
    "### Setting the Training Input/Output"
   ]
  },
  {
   "cell_type": "code",
   "execution_count": null,
   "metadata": {},
   "outputs": [],
   "source": [
    "#Setting the IssuesInMonth feature as the output for each sample of the new DataFrame\n",
    "Y = pallets_df_timeseries.IssuesInMonth_1\n",
    "Y"
   ]
  },
  {
   "cell_type": "code",
   "execution_count": null,
   "metadata": {
    "scrolled": true
   },
   "outputs": [],
   "source": [
    "#Taking out column names:\n",
    "column_names = pallets_df_timeseries.columns\n",
    "\n",
    "#Setting all the Input features in a DataFrame: \n",
    "X = pallets_df_timeseries[column_names[0:9]]\n",
    "X"
   ]
  },
  {
   "cell_type": "code",
   "execution_count": null,
   "metadata": {},
   "outputs": [],
   "source": [
    "#Setting up Training and Test set \n",
    "from sklearn.model_selection import train_test_split\n",
    "\n",
    "#The functions randomly picks up samples from the dataset and puts them in train and test dataset:\n",
    "X_train, X_test, y_train, y_test = train_test_split(X, Y, test_size=0.0681, random_state=7)\n",
    "print(X_train.shape)\n",
    "print(y_train.shape)\n",
    "print(X_test.shape)\n",
    "print(y_test.shape)"
   ]
  },
  {
   "cell_type": "markdown",
   "metadata": {},
   "source": [
    " "
   ]
  },
  {
   "cell_type": "markdown",
   "metadata": {},
   "source": [
    "### Constructing Models"
   ]
  },
  {
   "cell_type": "code",
   "execution_count": null,
   "metadata": {},
   "outputs": [],
   "source": [
    "#Creating a function for MAPE as there is no inbuilt function in Scikit-Learn for that:\n",
    "import numpy as np\n",
    "def mean_absolute_percentage_error(y_true, y_pred): \n",
    "    y_true, y_pred = np.array(y_true), np.array(y_pred)\n",
    "    return np.mean(np.abs((y_true - y_pred) / y_true)) * 100"
   ]
  },
  {
   "cell_type": "markdown",
   "metadata": {},
   "source": [
    "##### Linear Regression Model:"
   ]
  },
  {
   "cell_type": "code",
   "execution_count": null,
   "metadata": {
    "scrolled": true
   },
   "outputs": [],
   "source": [
    "#Creating the model:\n",
    "lm = linear_model.LinearRegression()\n",
    "\n",
    "#Fitting the model: \n",
    "lin_model = lm.fit(X_train,y_train)\n",
    "\n",
    "#Predictions \n",
    "predictions_linear_model = lm.predict(X_test)\n",
    "print('\\n Predictions-> \\n', predictions_linear_model)\n",
    "print('\\n True values were -> \\n', y_test)\n",
    "\n",
    "#Calculating MAPE:\n",
    "MAPE_on_Linearmodel = mean_absolute_percentage_error(y_test, predictions_linear_model)\n",
    "print('The MAPE on the Linear Model is: \\n', MAPE_on_Linearmodel)"
   ]
  },
  {
   "cell_type": "markdown",
   "metadata": {},
   "source": [
    " "
   ]
  },
  {
   "cell_type": "markdown",
   "metadata": {},
   "source": [
    " "
   ]
  },
  {
   "cell_type": "markdown",
   "metadata": {},
   "source": [
    "# Predicting values of Issues for the next 6 months"
   ]
  },
  {
   "cell_type": "code",
   "execution_count": null,
   "metadata": {},
   "outputs": [],
   "source": [
    "#Dataset location\n",
    "bxb_test_file_location = r\"C:\\Users\\Bada Rock\\Downloads\\Test_data.csv\"\n",
    "#Loading Datset: \n",
    "input_data_sixmonths = pd.read_csv(bxb_test_file_location)"
   ]
  },
  {
   "cell_type": "markdown",
   "metadata": {},
   "source": [
    "### Feature Engineering Again"
   ]
  },
  {
   "cell_type": "markdown",
   "metadata": {},
   "source": [
    "***Why?***: \n",
    "\n",
    "This is done to further allow the conversion of this Time Series problem into a Supervised Learning Problem\n",
    "\n",
    "***What?***: \n",
    "\n",
    "Breaking down the 'Month' column which contains string data as: 'mm/dd/yyyy' \n",
    "into two columns - 'Month_number' and 'Year', which just specifically contains the value of the\n",
    "Month and Year. \n",
    "\n",
    "***Dropping***: \n",
    "\n",
    "Dates as they are of no use in monthwise prediction"
   ]
  },
  {
   "cell_type": "code",
   "execution_count": null,
   "metadata": {
    "scrolled": false
   },
   "outputs": [],
   "source": [
    "#FIRST, WORKING ON THE TRAINING DATASET FIRST(pallets_df):\n",
    "#Breaking down Month's 'mm/dd/yyyy' into 3 columns:\n",
    "broken_down_df = (input_data_sixmonths['Month'].str.split('/', expand=True))\n",
    "broken_down_df.columns = ['Month_number', 'Date', 'Year']\n",
    "#Deleting the 'Date' column from this as we no longer need it: \n",
    "del broken_down_df['Date']\n",
    "\n",
    "#Concatenating this with the original 'pallets_df' dataframe and replacing the original: \n",
    "input_data_sixmonths = pd.concat((broken_down_df, input_data_sixmonths), axis=1)\n",
    "#Deleting the original 'Month' column as we no long need it\n",
    "del input_data_sixmonths['Month']\n",
    "\n",
    "#Final result after the transformations:\n",
    "print(input_data_sixmonths)"
   ]
  },
  {
   "cell_type": "markdown",
   "metadata": {},
   "source": [
    " "
   ]
  },
  {
   "cell_type": "markdown",
   "metadata": {},
   "source": [
    "### Converting all the values in the DataFrame to Numeric \n"
   ]
  },
  {
   "cell_type": "markdown",
   "metadata": {},
   "source": [
    "***Why?***: \n",
    "\n",
    "Necessary as both the values of both the new columns created (Month_number and Year) are of the type 'str' because of the command 'split' used on the them."
   ]
  },
  {
   "cell_type": "code",
   "execution_count": null,
   "metadata": {
    "scrolled": true
   },
   "outputs": [],
   "source": [
    "#Type before conversion: \n",
    "print('Type of the columns before conversion: \\n', \n",
    "      type(input_data_sixmonths.Month_number.iloc[3])\n",
    "     ) \n",
    "\n",
    "#Converting the whole dataframe into Numeric type: \n",
    "input_data_sixmonths = input_data_sixmonths.apply(pd.to_numeric)\n",
    "\n",
    "#Type after conversion: \n",
    "print('\\nType of the columns after conversion: \\n', \n",
    "      type(input_data_sixmonths.Month_number.iloc[3])\n",
    "     ) \n"
   ]
  },
  {
   "cell_type": "markdown",
   "metadata": {},
   "source": [
    "##### Changing the column names\n",
    "\n",
    "For the month of July, this has to be done so as to allow the concatenation of the dataframes pallets_df_timeseries and this input_data_sixmonths columnwise."
   ]
  },
  {
   "cell_type": "code",
   "execution_count": null,
   "metadata": {},
   "outputs": [],
   "source": [
    "input_data_sixmonths.columns=['Month_number_1', 'Year_1', 'TransfersInMonth_1', 'BusinessDaysInMonth_1']\n",
    "input_data_sixmonths"
   ]
  },
  {
   "cell_type": "markdown",
   "metadata": {},
   "source": [
    "##### Predicting the number of Pallets issued in July, 2017:"
   ]
  },
  {
   "cell_type": "code",
   "execution_count": null,
   "metadata": {
    "scrolled": true
   },
   "outputs": [],
   "source": [
    "#Taking all two rows 5 features of the previous month: \n",
    "temp_1 = pallets_df_2010.loc[88:89]\n",
    "temp_1 = temp_1.reset_index(drop=True)\n",
    "temp_1 = temp_1.sort_values(['Month_number'], ascending=False)\n",
    "temp_1 = temp_1.reset_index(drop=True)\n",
    "print(temp_1)\n",
    "\n",
    "#Taking two rows of 4 features from the Test_data.csv file: \n",
    "temp_2 = input_data_sixmonths.loc[0:1]\n",
    "temp_2 = temp_2.reset_index(drop=True)\n",
    "print(temp_2)\n",
    "\n",
    "#Concatenating both the above dataframes: \n",
    "july_2017_input_data = pd.concat((temp_1, temp_2), axis=1)\n",
    "print(july_2017_input_data)\n",
    "\n",
    "#Choosing just the first row of the dataframe to get the Input features for predicting\n",
    "#the number of issues in the July Month: \n",
    "july_2017_input_data = july_2017_input_data.loc[0]\n",
    "print(july_2017_input_data)\n",
    "\n",
    "#Predictions \n",
    "#As it is a single sample, we have to reshape it: \n",
    "july_2017_input_data = july_2017_input_data.reshape(1, -1)\n",
    "\n",
    "#Predictions for that single sample: \n",
    "prediction_july = lm.predict(july_2017_input_data)\n",
    "print('\\n Prediction of July-> \\n', prediction_july)"
   ]
  },
  {
   "cell_type": "markdown",
   "metadata": {},
   "source": [
    "##### Predictions for August, 2017:"
   ]
  },
  {
   "cell_type": "code",
   "execution_count": null,
   "metadata": {
    "scrolled": false
   },
   "outputs": [],
   "source": [
    "#Creating a new column in the input_data_sixmonths dataframe in which we'll fill the \n",
    "#predictions we get along the way for each month: \n",
    "input_data_sixmonths['IssuesInMonth'] = pd.Series(np.random.randn(6), index=input_data_sixmonths.index)"
   ]
  },
  {
   "cell_type": "code",
   "execution_count": null,
   "metadata": {
    "scrolled": true
   },
   "outputs": [],
   "source": [
    "#Setting the number of issues of the July month to its predicted value: \n",
    "input_data_sixmonths.IssuesInMonth[0] = prediction_july\n",
    "input_data_sixmonths\n",
    "\n",
    "#Taking all two rows 5 features of the previous month: \n",
    "temp_1 = input_data_sixmonths.loc[0:1]\n",
    "temp_1 = temp_1.reset_index(drop=True)\n",
    "temp_1.columns = ['Month_number', 'Year', 'TransfersInMonth', 'BusinessDaysInMonth', 'IssuesInMonth']\n",
    "print(temp_1)\n",
    "\n",
    "#Taking two rows of 4 features from the Test_data.csv file: \n",
    "temp_2 = input_data_sixmonths.loc[1:2]\n",
    "temp_2 = temp_2.reset_index(drop=True)\n",
    "del temp_2['IssuesInMonth']\n",
    "print(temp_2)\n",
    "\n",
    "#Concatenating both the above dataframes: \n",
    "august_2017_input_data = pd.concat((temp_1, temp_2), axis=1)\n",
    "print(august_2017_input_data)\n",
    "\n",
    "#Choosing just the first row of the dataframe to get the Input features for predicting\n",
    "#the number of issues in the July Month: \n",
    "august_2017_input_data = august_2017_input_data.loc[0]\n",
    "print(august_2017_input_data)\n",
    "print(type(august_2017_input_data))\n",
    "\n",
    "#Predictions:\n",
    "#As it is a single sample, we have to reshape it: \n",
    "august_2017_input_data = august_2017_input_data.reshape(1, -1)\n",
    "\n",
    "#Predictions for that single sample: \n",
    "prediction_august = lm.predict(august_2017_input_data)\n",
    "print('\\n Prediction for August-> \\n', prediction_august)"
   ]
  },
  {
   "cell_type": "markdown",
   "metadata": {},
   "source": [
    "##### Predictions for September, 2017:"
   ]
  },
  {
   "cell_type": "code",
   "execution_count": null,
   "metadata": {
    "scrolled": true
   },
   "outputs": [],
   "source": [
    "#Setting the number of issues of the July month to its predicted value: \n",
    "input_data_sixmonths.IssuesInMonth[1] = prediction_august\n",
    "input_data_sixmonths\n",
    "\n",
    "#Taking all two rows 5 features of the previous month: \n",
    "temp_1 = input_data_sixmonths.loc[1:2]\n",
    "temp_1 = temp_1.reset_index(drop=True)\n",
    "temp_1.columns = ['Month_number', 'Year', 'TransfersInMonth', 'BusinessDaysInMonth', 'IssuesInMonth']\n",
    "print(temp_1)\n",
    "\n",
    "#Taking two rows of 4 features from the Test_data.csv file: \n",
    "temp_2 = input_data_sixmonths.loc[2:3]\n",
    "temp_2 = temp_2.reset_index(drop=True)\n",
    "del temp_2['IssuesInMonth']\n",
    "print(temp_2)\n",
    "\n",
    "#Concatenating both the above dataframes: \n",
    "september_2017_input_data = pd.concat((temp_1, temp_2), axis=1)\n",
    "print(september_2017_input_data)\n",
    "\n",
    "#Choosing just the first row of the dataframe to get the Input features for predicting\n",
    "#the number of issues in the July Month: \n",
    "september_2017_input_data = september_2017_input_data.loc[0]\n",
    "print(september_2017_input_data)\n",
    "print(type(september_2017_input_data))\n",
    "\n",
    "#Predictions \n",
    "#As it is a single sample, we have to reshape it: \n",
    "september_2017_input_data = september_2017_input_data.reshape(1, -1)\n",
    "\n",
    "#Predictions for that single sample: \n",
    "prediction_september = lm.predict(september_2017_input_data)\n",
    "print('\\n Predictions-> \\n', prediction_september)"
   ]
  },
  {
   "cell_type": "markdown",
   "metadata": {},
   "source": [
    "##### Predictions for October, 2017:"
   ]
  },
  {
   "cell_type": "code",
   "execution_count": null,
   "metadata": {
    "scrolled": false
   },
   "outputs": [],
   "source": [
    "#Setting the number of issues of the July month to its predicted value: \n",
    "input_data_sixmonths.IssuesInMonth[2] = prediction_september\n",
    "input_data_sixmonths\n",
    "\n",
    "#Taking all two rows 5 features of the previous month: \n",
    "temp_1 = input_data_sixmonths.loc[2:3]\n",
    "temp_1 = temp_1.reset_index(drop=True)\n",
    "temp_1.columns = ['Month_number', 'Year', 'TransfersInMonth', 'BusinessDaysInMonth', 'IssuesInMonth']\n",
    "print(temp_1)\n",
    "\n",
    "#Taking two rows of 4 features from the Test_data.csv file: \n",
    "temp_2 = input_data_sixmonths.loc[3:4]\n",
    "temp_2 = temp_2.reset_index(drop=True)\n",
    "del temp_2['IssuesInMonth']\n",
    "print(temp_2)\n",
    "\n",
    "#Concatenating both the above dataframes: \n",
    "october_2017_input_data = pd.concat((temp_1, temp_2), axis=1)\n",
    "print(october_2017_input_data)\n",
    "\n",
    "#Choosing just the first row of the dataframe to get the Input features for predicting\n",
    "#the number of issues in the July Month: \n",
    "october_2017_input_data = october_2017_input_data.loc[0]\n",
    "print(october_2017_input_data)\n",
    "print(type(october_2017_input_data))\n",
    "\n",
    "#Predictions \n",
    "#As it is a single sample, we have to reshape it: \n",
    "october_2017_input_data = october_2017_input_data.reshape(1, -1)\n",
    "\n",
    "#Predictions for that single sample: \n",
    "prediction_october = lm.predict(october_2017_input_data)\n",
    "print('\\n Predictions-> \\n', prediction_october)"
   ]
  },
  {
   "cell_type": "markdown",
   "metadata": {},
   "source": [
    "##### Predictions for November, 2017:"
   ]
  },
  {
   "cell_type": "code",
   "execution_count": null,
   "metadata": {
    "scrolled": false
   },
   "outputs": [],
   "source": [
    "#Setting the number of issues of the July month to its predicted value: \n",
    "input_data_sixmonths.IssuesInMonth[3] = prediction_october\n",
    "input_data_sixmonths\n",
    "\n",
    "#Taking all two rows 5 features of the previous month: \n",
    "temp_1 = input_data_sixmonths.loc[3:4]\n",
    "temp_1 = temp_1.reset_index(drop=True)\n",
    "temp_1.columns = ['Month_number', 'Year', 'TransfersInMonth', 'BusinessDaysInMonth', 'IssuesInMonth']\n",
    "print(temp_1)\n",
    "\n",
    "#Taking two rows of 4 features from the Test_data.csv file: \n",
    "temp_2 = input_data_sixmonths.loc[4:5]\n",
    "temp_2 = temp_2.reset_index(drop=True)\n",
    "del temp_2['IssuesInMonth']\n",
    "print(temp_2)\n",
    "\n",
    "#Concatenating both the above dataframes: \n",
    "november_2017_input_data = pd.concat((temp_1, temp_2), axis=1)\n",
    "print(november_2017_input_data)\n",
    "\n",
    "#Choosing just the first row of the dataframe to get the Input features for predicting\n",
    "#the number of issues in the July Month: \n",
    "november_2017_input_data = november_2017_input_data.loc[0]\n",
    "print(november_2017_input_data)\n",
    "print(type(november_2017_input_data))\n",
    "\n",
    "#Predictions \n",
    "#As it is a single sample, we have to reshape it: \n",
    "november_2017_input_data = november_2017_input_data.reshape(1, -1)\n",
    "\n",
    "#Predictions for that single sample: \n",
    "prediction_november = lm.predict(november_2017_input_data)\n",
    "print('\\n Predictions-> \\n', prediction_november)"
   ]
  },
  {
   "cell_type": "markdown",
   "metadata": {},
   "source": [
    "##### Predictions for December, 2017:"
   ]
  },
  {
   "cell_type": "code",
   "execution_count": null,
   "metadata": {
    "scrolled": true
   },
   "outputs": [],
   "source": [
    "#Setting the number of issues of the July month to its predicted value: \n",
    "input_data_sixmonths.IssuesInMonth[4] = prediction_november\n",
    "input_data_sixmonths\n",
    "\n",
    "#Taking all two rows 5 features of the previous month: \n",
    "temp_1 = input_data_sixmonths.loc[4:5]\n",
    "temp_1 = temp_1.reset_index(drop=True)\n",
    "temp_1.columns = ['Month_number', 'Year', 'TransfersInMonth', 'BusinessDaysInMonth', 'IssuesInMonth']\n",
    "print(temp_1)\n",
    "\n",
    "#Taking two rows of 4 features from the Test_data.csv file: \n",
    "temp_2 = input_data_sixmonths.loc[4:5]\n",
    "temp_2 = temp_2.sort_values(['Month_number_1'], ascending=False)\n",
    "temp_2 = temp_2.reset_index(drop=True)\n",
    "del temp_2['IssuesInMonth']\n",
    "print(temp_2)\n",
    "\n",
    "#Concatenating both the above dataframes:\n",
    "december_2017_input_data = pd.concat((temp_1, temp_2), axis=1)\n",
    "print(december_2017_input_data)\n",
    "\n",
    "#Choosing just the first row of the dataframe to get the Input features for predicting\n",
    "#the number of issues in the July Month: \n",
    "december_2017_input_data = december_2017_input_data.loc[0]\n",
    "print(december_2017_input_data)\n",
    "print(type(december_2017_input_data))\n",
    "\n",
    "#Predictions \n",
    "#As it is a single sample, we have to reshape it: \n",
    "december_2017_input_data = december_2017_input_data.reshape(1, -1)\n",
    "\n",
    "#Predictions for that single sample: \n",
    "prediction_december = lm.predict(december_2017_input_data)\n",
    "print('\\n Predictions-> \\n', prediction_december)"
   ]
  },
  {
   "cell_type": "markdown",
   "metadata": {},
   "source": [
    " "
   ]
  },
  {
   "cell_type": "markdown",
   "metadata": {},
   "source": [
    "# Final Submission Output"
   ]
  },
  {
   "cell_type": "code",
   "execution_count": null,
   "metadata": {
    "scrolled": false
   },
   "outputs": [],
   "source": [
    "#Setting the final value of \n",
    "input_data_sixmonths.IssuesInMonth[5] = prediction_december\n",
    "print('Final output prediction dataframe: \\n', input_data_sixmonths)"
   ]
  },
  {
   "cell_type": "markdown",
   "metadata": {},
   "source": [
    "### Plotting the Forecasted Output on the true values of Issues of after 2010"
   ]
  },
  {
   "cell_type": "code",
   "execution_count": null,
   "metadata": {
    "scrolled": true
   },
   "outputs": [],
   "source": [
    "input_data_sixmonths.columns =  ['Month_number', 'Year', 'TransfersInMonth', 'BusinessDaysInMonth', 'IssuesInMonth']\n",
    "forecast_truevalues_combined = pd.concat((pallets_df_2010, input_data_sixmonths), axis=0 )\n",
    "forecast_truevalues_combined = forecast_truevalues_combined.reset_index(drop=True)\n",
    "print(forecast_truevalues_combined)"
   ]
  },
  {
   "cell_type": "code",
   "execution_count": 74,
   "metadata": {
    "scrolled": false
   },
   "outputs": [
    {
     "data": {
      "image/png": "[encoded data removed]",
      "text/plain": [
       "<matplotlib.figure.Figure at 0x21d9a734048>"
      ]
     },
     "metadata": {},
     "output_type": "display_data"
    }
   ],
   "source": [
    "plt.plot(forecast_truevalues_combined.IssuesInMonth.iloc[0:90], 'r', forecast_truevalues_combined.IssuesInMonth.iloc[89:94], 'b')\n",
    "plt.savefig('forecast_plotted.png')"
   ]
  }
 ],
 "metadata": {
  "kernelspec": {
   "display_name": "Python 3",
   "language": "python",
   "name": "python3"
  },
  "language_info": {
   "codemirror_mode": {
    "name": "ipython",
    "version": 3
   },
   "file_extension": ".py",
   "mimetype": "text/x-python",
   "name": "python",
   "nbconvert_exporter": "python",
   "pygments_lexer": "ipython3",
   "version": "3.6.3"
  }
 },
 "nbformat": 4,
 "nbformat_minor": 2
}
