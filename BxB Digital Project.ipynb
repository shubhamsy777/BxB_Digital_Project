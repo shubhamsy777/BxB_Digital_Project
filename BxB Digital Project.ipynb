{
 "cells": [
  {
   "cell_type": "markdown",
   "metadata": {},
   "source": [
    "# BxB Digital Project\n",
    "\n",
    "Author: Shubham Singh Yadav\n",
    "\n",
    "Documentation regarding the approach, analysis and findings for this project is provided in a seperate file attached in the same repository on GitHub. \n",
    "\n",
    "Link to the Github Repo: "
   ]
  },
  {
   "cell_type": "markdown",
   "metadata": {},
   "source": [
    " "
   ]
  },
  {
   "cell_type": "markdown",
   "metadata": {},
   "source": [
    "### Importing Libraries"
   ]
  },
  {
   "cell_type": "code",
   "execution_count": 26,
   "metadata": {
    "scrolled": true
   },
   "outputs": [],
   "source": [
    "#For working with data:\n",
    "import pandas as pd\n",
    "import numpy as np\n",
    "import matplotlib\n",
    "import matplotlib.pyplot as plt\n",
    "\n",
    "#For Scikit Learn:\n",
    "import sklearn\n",
    "import statsmodels.api as sm\n",
    "from sklearn import linear_model"
   ]
  },
  {
   "cell_type": "markdown",
   "metadata": {},
   "source": [
    " "
   ]
  },
  {
   "cell_type": "markdown",
   "metadata": {},
   "source": [
    "### Importing the Training Data"
   ]
  },
  {
   "cell_type": "code",
   "execution_count": 27,
   "metadata": {},
   "outputs": [
    {
     "name": "stdout",
     "output_type": "stream",
     "text": [
      "         Month  TransfersInMonth  BusinessDaysInMonth  IssuesInMonth\n",
      "115  2/28/2017            928621                 22.0        1005903\n",
      "116  3/31/2017            927348                 22.0        1025539\n",
      "117  4/30/2017            988990                 27.5        1050488\n",
      "118  5/31/2017            978562                 21.0        1132481\n",
      "119  6/30/2017           1047903                 21.5        1143552\n"
     ]
    }
   ],
   "source": [
    "#Change this variable's string to your path where the data is stored \n",
    "bxb_train_file_location = r\"C:\\Users\\Bada Rock\\Downloads\\Train_data.csv\"\n",
    "\n",
    "#Creating Dataframe for the train dataset(pallets_df)\n",
    "pallets_df = pd.read_csv(bxb_train_file_location)\n",
    "\n",
    "#To check the total number of samples while getting an idea about the structure of data\n",
    "print(pallets_df.tail())"
   ]
  },
  {
   "cell_type": "code",
   "execution_count": 28,
   "metadata": {},
   "outputs": [
    {
     "data": {
      "text/plain": [
       "Month                  0\n",
       "TransfersInMonth       0\n",
       "BusinessDaysInMonth    0\n",
       "IssuesInMonth          0\n",
       "dtype: int64"
      ]
     },
     "execution_count": 28,
     "metadata": {},
     "output_type": "execute_result"
    }
   ],
   "source": [
    "#Checking if any value of the DataFrame is NaN:\n",
    "pallets_df.isnull().sum()"
   ]
  },
  {
   "cell_type": "markdown",
   "metadata": {},
   "source": [
    " "
   ]
  },
  {
   "cell_type": "markdown",
   "metadata": {},
   "source": [
    "### Feature Engineering 1"
   ]
  },
  {
   "cell_type": "markdown",
   "metadata": {},
   "source": [
    "***Why?***: \n",
    "\n",
    "This is done to further allow the conversion of this Time Series problem into a Supervised Learning Problem\n",
    "\n",
    "***What?***: \n",
    "\n",
    "Breaking down the 'Month' column which contains string data as: 'mm/dd/yyyy' \n",
    "into two columns - 'Month_number' and 'Year', which just specifically contains the value of the\n",
    "Month and Year. \n",
    "\n",
    "***Dropping***: \n",
    "\n",
    "Dates as they are of no use in monthwise prediction"
   ]
  },
  {
   "cell_type": "code",
   "execution_count": 29,
   "metadata": {
    "scrolled": false
   },
   "outputs": [
    {
     "name": "stdout",
     "output_type": "stream",
     "text": [
      "    Month_number  Year  TransfersInMonth  BusinessDaysInMonth  IssuesInMonth\n",
      "115            2  2017            928621                 22.0        1005903\n",
      "116            3  2017            927348                 22.0        1025539\n",
      "117            4  2017            988990                 27.5        1050488\n",
      "118            5  2017            978562                 21.0        1132481\n",
      "119            6  2017           1047903                 21.5        1143552\n"
     ]
    }
   ],
   "source": [
    "#FIRST, WORKING ON THE TRAINING DATASET FIRST(pallets_df):\n",
    "#Breaking down Month's 'mm/dd/yyyy' into 3 columns:\n",
    "broken_down_df = (pallets_df['Month'].str.split('/', expand=True))\n",
    "broken_down_df.columns = ['Month_number', 'Date', 'Year']\n",
    "#Deleting the 'Date' column from this as we no longer need it: \n",
    "del broken_down_df['Date']\n",
    "\n",
    "#Concatenating this with the original 'pallets_df' dataframe and replacing the original: \n",
    "pallets_df = pd.concat((broken_down_df, pallets_df), axis=1)\n",
    "#Deleting the original 'Month' column as we no long need it\n",
    "del pallets_df['Month']\n",
    "\n",
    "#Final result after the transformations:\n",
    "print(pallets_df.tail())"
   ]
  },
  {
   "cell_type": "markdown",
   "metadata": {},
   "source": [
    " "
   ]
  },
  {
   "cell_type": "markdown",
   "metadata": {},
   "source": [
    "### Converting all the values in the DataFrame to Numeric \n"
   ]
  },
  {
   "cell_type": "markdown",
   "metadata": {},
   "source": [
    "***Why?***: \n",
    "\n",
    "Necessary as both the values of both the new columns created (Month_number and Year) are of the type 'str' because of the command 'split' used on the them."
   ]
  },
  {
   "cell_type": "code",
   "execution_count": 30,
   "metadata": {
    "scrolled": true
   },
   "outputs": [
    {
     "name": "stdout",
     "output_type": "stream",
     "text": [
      "Type of the columns before conversion: \n",
      " <class 'str'> <class 'numpy.int64'>\n",
      "\n",
      "Type of the columns after conversion: \n",
      " <class 'numpy.int64'> <class 'numpy.int64'>\n"
     ]
    }
   ],
   "source": [
    "#Type before conversion: \n",
    "print('Type of the columns before conversion: \\n', \n",
    "      type(pallets_df.Month_number.iloc[1]),\n",
    "      type(pallets_df.IssuesInMonth.iloc[1])\n",
    "     ) \n",
    "\n",
    "#Converting the whole dataframe into Numeric type: \n",
    "pallets_df = pallets_df.apply(pd.to_numeric)\n",
    "\n",
    "#Type after conversion: \n",
    "print('\\nType of the columns after conversion: \\n', \n",
    "      type(pallets_df.Month_number.iloc[1]),\n",
    "      type(pallets_df.IssuesInMonth.iloc[1])\n",
    "     ) \n"
   ]
  },
  {
   "cell_type": "markdown",
   "metadata": {},
   "source": [
    " "
   ]
  },
  {
   "cell_type": "markdown",
   "metadata": {},
   "source": [
    "### Analysis from Visualization\n",
    "\n"
   ]
  },
  {
   "cell_type": "code",
   "execution_count": 31,
   "metadata": {},
   "outputs": [],
   "source": [
    "#Increasing the size of the image for better clarity:\n",
    "matplotlib.rcParams['figure.figsize'] = [16, 9]"
   ]
  },
  {
   "cell_type": "markdown",
   "metadata": {},
   "source": [
    "##### Analyzing relationship between the month and the number of Issues in that Month over the Years"
   ]
  },
  {
   "cell_type": "code",
   "execution_count": 32,
   "metadata": {
    "scrolled": true
   },
   "outputs": [
    {
     "data": {
      "image/png": "[encoded data removed]",
      "text/plain": [
       "<matplotlib.figure.Figure at 0x21d998722e8>"
      ]
     },
     "metadata": {},
     "output_type": "display_data"
    }
   ],
   "source": [
    "#Darker colors: Earlier Years\n",
    "#Then fades as we move to the latest years\n",
    "plt.scatter(pallets_df.Month_number, pallets_df.IssuesInMonth, c=pallets_df.Year,  marker='*')\n",
    "plt.xlabel('Month Number')\n",
    "plt.ylabel('IssuesInMonth')\n",
    "plt.gray()\n",
    "plt.show()"
   ]
  },
  {
   "cell_type": "markdown",
   "metadata": {},
   "source": [
    "##### Analyzing relationship between the Transfers in a Month and the Issues in that Month over the Years"
   ]
  },
  {
   "cell_type": "code",
   "execution_count": 33,
   "metadata": {},
   "outputs": [
    {
     "data": {
      "image/png": "[encoded data removed]",
      "text/plain": [
       "<matplotlib.figure.Figure at 0x21d99864908>"
      ]
     },
     "metadata": {},
     "output_type": "display_data"
    }
   ],
   "source": [
    "#Darker colors: Earlier Years\n",
    "#Then fades as we move to the latest years\n",
    "plt.scatter(pallets_df.TransfersInMonth, pallets_df.IssuesInMonth, c=pallets_df.Year, marker='*')\n",
    "plt.xlabel('Transfers')\n",
    "plt.ylabel('IssuesInMonth')\n",
    "plt.gray()\n",
    "plt.show()"
   ]
  },
  {
   "cell_type": "markdown",
   "metadata": {},
   "source": [
    "##### Analyzing relationship between the Business Days in a Month and the Issues in that Month over the Years"
   ]
  },
  {
   "cell_type": "code",
   "execution_count": 34,
   "metadata": {},
   "outputs": [
    {
     "data": {
      "image/png": "[encoded data removed]",
      "text/plain": [
       "<matplotlib.figure.Figure at 0x21d997fa198>"
      ]
     },
     "metadata": {},
     "output_type": "display_data"
    }
   ],
   "source": [
    "#Darker colors: Earlier Years\n",
    "#Then fades as we move to the latest years\n",
    "plt.scatter(pallets_df.BusinessDaysInMonth, pallets_df.IssuesInMonth, c=pallets_df.Year, marker='*')\n",
    "plt.xlabel('Business Days')\n",
    "plt.ylabel('IssuesInMonth')\n",
    "plt.gray()\n",
    "plt.show()"
   ]
  },
  {
   "cell_type": "markdown",
   "metadata": {},
   "source": [
    "##### Analyzing relationship between the Year and Issues in those years with Scatter Plot"
   ]
  },
  {
   "cell_type": "code",
   "execution_count": 35,
   "metadata": {
    "scrolled": true
   },
   "outputs": [
    {
     "data": {
      "image/png": "[encoded data removed]",
      "text/plain": [
       "<matplotlib.figure.Figure at 0x21d998b4908>"
      ]
     },
     "metadata": {},
     "output_type": "display_data"
    }
   ],
   "source": [
    "#Darker colors: Earlier Years\n",
    "#Then fades into the latest year \n",
    "plt.scatter(pallets_df.Year, pallets_df.IssuesInMonth, c=pallets_df.Year, marker='*')\n",
    "plt.xlabel('Year')\n",
    "plt.ylabel('IssuesInMonth')\n",
    "plt.gray()\n",
    "plt.show()"
   ]
  },
  {
   "cell_type": "markdown",
   "metadata": {},
   "source": [
    "##### Analyzing the Issues and Transfers over the years- Line plot"
   ]
  },
  {
   "cell_type": "code",
   "execution_count": 36,
   "metadata": {
    "scrolled": true
   },
   "outputs": [
    {
     "data": {
      "text/plain": [
       "[<matplotlib.lines.Line2D at 0x21d99cb5748>,\n",
       " <matplotlib.lines.Line2D at 0x21d99cb5c50>]"
      ]
     },
     "execution_count": 36,
     "metadata": {},
     "output_type": "execute_result"
    },
    {
     "data": {
      "image/png": "[encoded data removed]",
      "text/plain": [
       "<matplotlib.figure.Figure at 0x21d99872ac8>"
      ]
     },
     "metadata": {},
     "output_type": "display_data"
    }
   ],
   "source": [
    "#Data is sorted in an increasing time order already\n",
    "plt.plot(pallets_df.IssuesInMonth, 'b', pallets_df.TransfersInMonth, 'r')"
   ]
  },
  {
   "cell_type": "markdown",
   "metadata": {},
   "source": [
    " "
   ]
  },
  {
   "cell_type": "markdown",
   "metadata": {},
   "source": [
    "### Important Conclusions"
   ]
  },
  {
   "cell_type": "markdown",
   "metadata": {},
   "source": [
    "1. Transfers and Issues: The relationship between Transfers and Issues over the years have kept on linearly increasing with each other. Also they both have kept on increasing over the years after 2010.\n",
    "\n",
    "2. Year and Issues: The relationship is mostly linear after 2010, and thus for forecasting with these 4 features, we can drop the years before 2010."
   ]
  },
  {
   "cell_type": "markdown",
   "metadata": {},
   "source": [
    " "
   ]
  },
  {
   "cell_type": "markdown",
   "metadata": {},
   "source": [
    "### Chossing the Data after 2010 to fit into a Model"
   ]
  },
  {
   "cell_type": "markdown",
   "metadata": {},
   "source": [
    "IMPORTANT: This can be done to favor a simpler model which will ultimately result in a small deviation from the true values. Also, the months into which we have to forecast the values are small as compared to the size of the training data provided. "
   ]
  },
  {
   "cell_type": "code",
   "execution_count": 37,
   "metadata": {
    "scrolled": true
   },
   "outputs": [
    {
     "name": "stdout",
     "output_type": "stream",
     "text": [
      "     Month_number  Year  TransfersInMonth  BusinessDaysInMonth  IssuesInMonth\n",
      "30              1  2010            730797                 22.5         772891\n",
      "31              2  2010            751537                 21.5         808016\n",
      "32              3  2010            790163                 22.0         825555\n",
      "33              4  2010            780467                 27.5         808747\n",
      "34              5  2010            785663                 22.0         852275\n",
      "35              6  2010            881460                 24.0         861242\n",
      "36              7  2010            833250                 23.5         840947\n",
      "37              8  2010            817674                 22.0         848339\n",
      "38              9  2010            794917                 21.0         868176\n",
      "39             10  2010            811274                 27.5         811627\n",
      "40             11  2010            770833                 20.5         820254\n",
      "41             12  2010            800052                 25.5         778914\n",
      "42              1  2011            784820                 26.5         812343\n",
      "43              2  2011            773179                 21.5         827800\n",
      "44              3  2011            800117                 22.0         832989\n",
      "45              4  2011            793275                 27.5         845130\n",
      "46              5  2011            813076                 21.0         883790\n",
      "47              6  2011            866390                 20.5         881286\n",
      "48              7  2011            849706                 28.0         853442\n",
      "49              8  2011            809450                 22.0         869483\n",
      "50              9  2011            822822                 21.0         882715\n",
      "51             10  2011            853560                 27.5         842505\n",
      "52             11  2011            797262                 20.5         833755\n",
      "53             12  2011            836347                 21.0         788199\n",
      "54              1  2012            814864                 26.5         818809\n",
      "55              2  2012            774393                 22.0         847348\n",
      "56              3  2012            804513                 22.0         869606\n",
      "57              4  2012            827810                 27.5         867072\n",
      "58              5  2012            823290                 21.0         924636\n",
      "59              6  2012            885717                 22.0         919665\n",
      "..            ...   ...               ...                  ...            ...\n",
      "90              1  2015            956360                 23.5         958134\n",
      "91              2  2015            900781                 22.0         947264\n",
      "92              3  2015            875933                 22.0         981564\n",
      "93              4  2015            955560                 27.5         966524\n",
      "94              5  2015            893838                 21.0        1053853\n",
      "95              6  2015           1003616                 24.0        1026649\n",
      "96              7  2015            963848                 24.5        1026064\n",
      "97              8  2015            961831                 22.0        1035764\n",
      "98              9  2015            956732                 21.0        1050853\n",
      "99             10  2015            965195                 27.5         998531\n",
      "100            11  2015            953473                 20.5        1023173\n",
      "101            12  2015            967744                 24.0        1025357\n",
      "102             1  2016            998827                 22.5         987051\n",
      "103             2  2016            954858                 22.0        1011636\n",
      "104             3  2016            943432                 22.0        1022201\n",
      "105             4  2016            989685                 27.5        1008830\n",
      "106             5  2016            958739                 22.0        1075022\n",
      "107             6  2016           1020031                 25.0        1111690\n",
      "108             7  2016           1062011                 28.0        1067078\n",
      "109             8  2016           1003646                 22.0        1085209\n",
      "110             9  2016           1025005                 21.0        1069346\n",
      "111            10  2016           1011968                 27.5        1028791\n",
      "112            11  2016            968428                 20.5        1028815\n",
      "113            12  2016            989192                 21.0         981980\n",
      "114             1  2017            996091                 26.5        1021160\n",
      "115             2  2017            928621                 22.0        1005903\n",
      "116             3  2017            927348                 22.0        1025539\n",
      "117             4  2017            988990                 27.5        1050488\n",
      "118             5  2017            978562                 21.0        1132481\n",
      "119             6  2017           1047903                 21.5        1143552\n",
      "\n",
      "[90 rows x 5 columns]\n"
     ]
    }
   ],
   "source": [
    "#Selecting the rows where Year>=2010\n",
    "pallets_df_2010 = pallets_df[pallets_df.Year >= 2010]\n",
    "print(pallets_df_2010)"
   ]
  },
  {
   "cell_type": "code",
   "execution_count": 38,
   "metadata": {},
   "outputs": [],
   "source": [
    "#Resetting the Index so that it doesn't create a problem any further: \n",
    "pallets_df_2010 = pallets_df_2010.reset_index(drop=True)"
   ]
  },
  {
   "cell_type": "code",
   "execution_count": 39,
   "metadata": {
    "scrolled": true
   },
   "outputs": [
    {
     "name": "stdout",
     "output_type": "stream",
     "text": [
      "    Month_number  Year  TransfersInMonth  BusinessDaysInMonth  IssuesInMonth\n",
      "85             2  2017            928621                 22.0        1005903\n",
      "86             3  2017            927348                 22.0        1025539\n",
      "87             4  2017            988990                 27.5        1050488\n",
      "88             5  2017            978562                 21.0        1132481\n",
      "89             6  2017           1047903                 21.5        1143552\n"
     ]
    }
   ],
   "source": [
    "print(pallets_df_2010.tail())"
   ]
  },
  {
   "cell_type": "markdown",
   "metadata": {},
   "source": [
    " "
   ]
  },
  {
   "cell_type": "markdown",
   "metadata": {},
   "source": [
    "###  Converting the Time Series problem into Supervised Learning problem "
   ]
  },
  {
   "cell_type": "markdown",
   "metadata": {},
   "source": [
    "***Why?*** : \n",
    "\n",
    "Forecasting problem concerning time can be solved by Supervised Learning algorithms too such as SVM and other Regression Models. \n",
    "\n",
    "***How?*** : \n",
    "\n",
    "The features including the Number of Issues from the previous time step can be taken as an input in predicting the number of issues in the current month."
   ]
  },
  {
   "cell_type": "markdown",
   "metadata": {},
   "source": [
    "### Feature Engineering 2"
   ]
  },
  {
   "cell_type": "code",
   "execution_count": 40,
   "metadata": {
    "scrolled": true
   },
   "outputs": [
    {
     "name": "stdout",
     "output_type": "stream",
     "text": [
      "    Month_number  Year  TransfersInMonth  BusinessDaysInMonth  IssuesInMonth\n",
      "0              1  2010            730797                 22.5         772891\n",
      "1              2  2010            751537                 21.5         808016\n",
      "2              3  2010            790163                 22.0         825555\n",
      "3              4  2010            780467                 27.5         808747\n",
      "4              5  2010            785663                 22.0         852275\n",
      "5              6  2010            881460                 24.0         861242\n",
      "6              7  2010            833250                 23.5         840947\n",
      "7              8  2010            817674                 22.0         848339\n",
      "8              9  2010            794917                 21.0         868176\n",
      "9             10  2010            811274                 27.5         811627\n",
      "10            11  2010            770833                 20.5         820254\n",
      "11            12  2010            800052                 25.5         778914\n",
      "12             1  2011            784820                 26.5         812343\n",
      "13             2  2011            773179                 21.5         827800\n",
      "14             3  2011            800117                 22.0         832989\n",
      "15             4  2011            793275                 27.5         845130\n",
      "16             5  2011            813076                 21.0         883790\n",
      "17             6  2011            866390                 20.5         881286\n",
      "18             7  2011            849706                 28.0         853442\n",
      "19             8  2011            809450                 22.0         869483\n",
      "20             9  2011            822822                 21.0         882715\n",
      "21            10  2011            853560                 27.5         842505\n",
      "22            11  2011            797262                 20.5         833755\n",
      "23            12  2011            836347                 21.0         788199\n",
      "24             1  2012            814864                 26.5         818809\n",
      "25             2  2012            774393                 22.0         847348\n",
      "26             3  2012            804513                 22.0         869606\n",
      "27             4  2012            827810                 27.5         867072\n",
      "28             5  2012            823290                 21.0         924636\n",
      "29             6  2012            885717                 22.0         919665\n",
      "..           ...   ...               ...                  ...            ...\n",
      "59            12  2014            954527                 23.0         977022\n",
      "60             1  2015            956360                 23.5         958134\n",
      "61             2  2015            900781                 22.0         947264\n",
      "62             3  2015            875933                 22.0         981564\n",
      "63             4  2015            955560                 27.5         966524\n",
      "64             5  2015            893838                 21.0        1053853\n",
      "65             6  2015           1003616                 24.0        1026649\n",
      "66             7  2015            963848                 24.5        1026064\n",
      "67             8  2015            961831                 22.0        1035764\n",
      "68             9  2015            956732                 21.0        1050853\n",
      "69            10  2015            965195                 27.5         998531\n",
      "70            11  2015            953473                 20.5        1023173\n",
      "71            12  2015            967744                 24.0        1025357\n",
      "72             1  2016            998827                 22.5         987051\n",
      "73             2  2016            954858                 22.0        1011636\n",
      "74             3  2016            943432                 22.0        1022201\n",
      "75             4  2016            989685                 27.5        1008830\n",
      "76             5  2016            958739                 22.0        1075022\n",
      "77             6  2016           1020031                 25.0        1111690\n",
      "78             7  2016           1062011                 28.0        1067078\n",
      "79             8  2016           1003646                 22.0        1085209\n",
      "80             9  2016           1025005                 21.0        1069346\n",
      "81            10  2016           1011968                 27.5        1028791\n",
      "82            11  2016            968428                 20.5        1028815\n",
      "83            12  2016            989192                 21.0         981980\n",
      "84             1  2017            996091                 26.5        1021160\n",
      "85             2  2017            928621                 22.0        1005903\n",
      "86             3  2017            927348                 22.0        1025539\n",
      "87             4  2017            988990                 27.5        1050488\n",
      "88             5  2017            978562                 21.0        1132481\n",
      "\n",
      "[89 rows x 5 columns]\n"
     ]
    }
   ],
   "source": [
    "#Choosing rows 1-89 as the values for time step t:\n",
    "pallets_df_t = pallets_df_2010[0:89]\n",
    "print(pallets_df_t)"
   ]
  },
  {
   "cell_type": "code",
   "execution_count": 41,
   "metadata": {
    "scrolled": true
   },
   "outputs": [
    {
     "name": "stdout",
     "output_type": "stream",
     "text": [
      "    Month_number  Year  TransfersInMonth  BusinessDaysInMonth  IssuesInMonth\n",
      "0              2  2010            751537                 21.5         808016\n",
      "1              3  2010            790163                 22.0         825555\n",
      "2              4  2010            780467                 27.5         808747\n",
      "3              5  2010            785663                 22.0         852275\n",
      "4              6  2010            881460                 24.0         861242\n",
      "5              7  2010            833250                 23.5         840947\n",
      "6              8  2010            817674                 22.0         848339\n",
      "7              9  2010            794917                 21.0         868176\n",
      "8             10  2010            811274                 27.5         811627\n",
      "9             11  2010            770833                 20.5         820254\n",
      "10            12  2010            800052                 25.5         778914\n",
      "11             1  2011            784820                 26.5         812343\n",
      "12             2  2011            773179                 21.5         827800\n",
      "13             3  2011            800117                 22.0         832989\n",
      "14             4  2011            793275                 27.5         845130\n",
      "15             5  2011            813076                 21.0         883790\n",
      "16             6  2011            866390                 20.5         881286\n",
      "17             7  2011            849706                 28.0         853442\n",
      "18             8  2011            809450                 22.0         869483\n",
      "19             9  2011            822822                 21.0         882715\n",
      "20            10  2011            853560                 27.5         842505\n",
      "21            11  2011            797262                 20.5         833755\n",
      "22            12  2011            836347                 21.0         788199\n",
      "23             1  2012            814864                 26.5         818809\n",
      "24             2  2012            774393                 22.0         847348\n",
      "25             3  2012            804513                 22.0         869606\n",
      "26             4  2012            827810                 27.5         867072\n",
      "27             5  2012            823290                 21.0         924636\n",
      "28             6  2012            885717                 22.0         919665\n",
      "29             7  2012            896494                 26.5         911985\n",
      "..           ...   ...               ...                  ...            ...\n",
      "59             1  2015            956360                 23.5         958134\n",
      "60             2  2015            900781                 22.0         947264\n",
      "61             3  2015            875933                 22.0         981564\n",
      "62             4  2015            955560                 27.5         966524\n",
      "63             5  2015            893838                 21.0        1053853\n",
      "64             6  2015           1003616                 24.0        1026649\n",
      "65             7  2015            963848                 24.5        1026064\n",
      "66             8  2015            961831                 22.0        1035764\n",
      "67             9  2015            956732                 21.0        1050853\n",
      "68            10  2015            965195                 27.5         998531\n",
      "69            11  2015            953473                 20.5        1023173\n",
      "70            12  2015            967744                 24.0        1025357\n",
      "71             1  2016            998827                 22.5         987051\n",
      "72             2  2016            954858                 22.0        1011636\n",
      "73             3  2016            943432                 22.0        1022201\n",
      "74             4  2016            989685                 27.5        1008830\n",
      "75             5  2016            958739                 22.0        1075022\n",
      "76             6  2016           1020031                 25.0        1111690\n",
      "77             7  2016           1062011                 28.0        1067078\n",
      "78             8  2016           1003646                 22.0        1085209\n",
      "79             9  2016           1025005                 21.0        1069346\n",
      "80            10  2016           1011968                 27.5        1028791\n",
      "81            11  2016            968428                 20.5        1028815\n",
      "82            12  2016            989192                 21.0         981980\n",
      "83             1  2017            996091                 26.5        1021160\n",
      "84             2  2017            928621                 22.0        1005903\n",
      "85             3  2017            927348                 22.0        1025539\n",
      "86             4  2017            988990                 27.5        1050488\n",
      "87             5  2017            978562                 21.0        1132481\n",
      "88             6  2017           1047903                 21.5        1143552\n",
      "\n",
      "[89 rows x 5 columns]\n"
     ]
    }
   ],
   "source": [
    "#Choosing rows 2-90 as the values for time step t+1:\n",
    "pallets_df_tplusone = pallets_df_2010[1:]\n",
    "pallets_df_tplusone = pallets_df_tplusone.reset_index(drop=True)\n",
    "print(pallets_df_tplusone)"
   ]
  },
  {
   "cell_type": "code",
   "execution_count": 42,
   "metadata": {
    "scrolled": true
   },
   "outputs": [
    {
     "name": "stdout",
     "output_type": "stream",
     "text": [
      "    Month_number_1  Year_1  TransfersInMonth_1  BusinessDaysInMonth_1  \\\n",
      "0                2    2010              751537                   21.5   \n",
      "1                3    2010              790163                   22.0   \n",
      "2                4    2010              780467                   27.5   \n",
      "3                5    2010              785663                   22.0   \n",
      "4                6    2010              881460                   24.0   \n",
      "5                7    2010              833250                   23.5   \n",
      "6                8    2010              817674                   22.0   \n",
      "7                9    2010              794917                   21.0   \n",
      "8               10    2010              811274                   27.5   \n",
      "9               11    2010              770833                   20.5   \n",
      "10              12    2010              800052                   25.5   \n",
      "11               1    2011              784820                   26.5   \n",
      "12               2    2011              773179                   21.5   \n",
      "13               3    2011              800117                   22.0   \n",
      "14               4    2011              793275                   27.5   \n",
      "15               5    2011              813076                   21.0   \n",
      "16               6    2011              866390                   20.5   \n",
      "17               7    2011              849706                   28.0   \n",
      "18               8    2011              809450                   22.0   \n",
      "19               9    2011              822822                   21.0   \n",
      "20              10    2011              853560                   27.5   \n",
      "21              11    2011              797262                   20.5   \n",
      "22              12    2011              836347                   21.0   \n",
      "23               1    2012              814864                   26.5   \n",
      "24               2    2012              774393                   22.0   \n",
      "25               3    2012              804513                   22.0   \n",
      "26               4    2012              827810                   27.5   \n",
      "27               5    2012              823290                   21.0   \n",
      "28               6    2012              885717                   22.0   \n",
      "29               7    2012              896494                   26.5   \n",
      "..             ...     ...                 ...                    ...   \n",
      "59               1    2015              956360                   23.5   \n",
      "60               2    2015              900781                   22.0   \n",
      "61               3    2015              875933                   22.0   \n",
      "62               4    2015              955560                   27.5   \n",
      "63               5    2015              893838                   21.0   \n",
      "64               6    2015             1003616                   24.0   \n",
      "65               7    2015              963848                   24.5   \n",
      "66               8    2015              961831                   22.0   \n",
      "67               9    2015              956732                   21.0   \n",
      "68              10    2015              965195                   27.5   \n",
      "69              11    2015              953473                   20.5   \n",
      "70              12    2015              967744                   24.0   \n",
      "71               1    2016              998827                   22.5   \n",
      "72               2    2016              954858                   22.0   \n",
      "73               3    2016              943432                   22.0   \n",
      "74               4    2016              989685                   27.5   \n",
      "75               5    2016              958739                   22.0   \n",
      "76               6    2016             1020031                   25.0   \n",
      "77               7    2016             1062011                   28.0   \n",
      "78               8    2016             1003646                   22.0   \n",
      "79               9    2016             1025005                   21.0   \n",
      "80              10    2016             1011968                   27.5   \n",
      "81              11    2016              968428                   20.5   \n",
      "82              12    2016              989192                   21.0   \n",
      "83               1    2017              996091                   26.5   \n",
      "84               2    2017              928621                   22.0   \n",
      "85               3    2017              927348                   22.0   \n",
      "86               4    2017              988990                   27.5   \n",
      "87               5    2017              978562                   21.0   \n",
      "88               6    2017             1047903                   21.5   \n",
      "\n",
      "    IssuesInMonth_1  \n",
      "0            808016  \n",
      "1            825555  \n",
      "2            808747  \n",
      "3            852275  \n",
      "4            861242  \n",
      "5            840947  \n",
      "6            848339  \n",
      "7            868176  \n",
      "8            811627  \n",
      "9            820254  \n",
      "10           778914  \n",
      "11           812343  \n",
      "12           827800  \n",
      "13           832989  \n",
      "14           845130  \n",
      "15           883790  \n",
      "16           881286  \n",
      "17           853442  \n",
      "18           869483  \n",
      "19           882715  \n",
      "20           842505  \n",
      "21           833755  \n",
      "22           788199  \n",
      "23           818809  \n",
      "24           847348  \n",
      "25           869606  \n",
      "26           867072  \n",
      "27           924636  \n",
      "28           919665  \n",
      "29           911985  \n",
      "..              ...  \n",
      "59           958134  \n",
      "60           947264  \n",
      "61           981564  \n",
      "62           966524  \n",
      "63          1053853  \n",
      "64          1026649  \n",
      "65          1026064  \n",
      "66          1035764  \n",
      "67          1050853  \n",
      "68           998531  \n",
      "69          1023173  \n",
      "70          1025357  \n",
      "71           987051  \n",
      "72          1011636  \n",
      "73          1022201  \n",
      "74          1008830  \n",
      "75          1075022  \n",
      "76          1111690  \n",
      "77          1067078  \n",
      "78          1085209  \n",
      "79          1069346  \n",
      "80          1028791  \n",
      "81          1028815  \n",
      "82           981980  \n",
      "83          1021160  \n",
      "84          1005903  \n",
      "85          1025539  \n",
      "86          1050488  \n",
      "87          1132481  \n",
      "88          1143552  \n",
      "\n",
      "[89 rows x 5 columns]\n"
     ]
    }
   ],
   "source": [
    "#Changing the column names for the Dataframe which has values for time step t+1\n",
    "#to allow concatenation without a problem:\n",
    "pallets_df_tplusone.columns=['Month_number_1', 'Year_1', 'TransfersInMonth_1', 'BusinessDaysInMonth_1', 'IssuesInMonth_1']\n",
    "print(pallets_df_tplusone)"
   ]
  },
  {
   "cell_type": "code",
   "execution_count": 43,
   "metadata": {
    "scrolled": true
   },
   "outputs": [
    {
     "name": "stdout",
     "output_type": "stream",
     "text": [
      "(89, 5)\n",
      "(89, 5)\n"
     ]
    }
   ],
   "source": [
    "#Checking whether both the dataframes t and t+1 have the same shape: \n",
    "print(pallets_df_t.shape)\n",
    "print(pallets_df_tplusone.shape)"
   ]
  },
  {
   "cell_type": "code",
   "execution_count": 44,
   "metadata": {
    "scrolled": true
   },
   "outputs": [
    {
     "name": "stdout",
     "output_type": "stream",
     "text": [
      "    Month_number  Year  TransfersInMonth  BusinessDaysInMonth  IssuesInMonth  \\\n",
      "84             1  2017            996091                 26.5        1021160   \n",
      "85             2  2017            928621                 22.0        1005903   \n",
      "86             3  2017            927348                 22.0        1025539   \n",
      "87             4  2017            988990                 27.5        1050488   \n",
      "88             5  2017            978562                 21.0        1132481   \n",
      "\n",
      "    Month_number_1  Year_1  TransfersInMonth_1  BusinessDaysInMonth_1  \\\n",
      "84               2    2017              928621                   22.0   \n",
      "85               3    2017              927348                   22.0   \n",
      "86               4    2017              988990                   27.5   \n",
      "87               5    2017              978562                   21.0   \n",
      "88               6    2017             1047903                   21.5   \n",
      "\n",
      "    IssuesInMonth_1  \n",
      "84          1005903  \n",
      "85          1025539  \n",
      "86          1050488  \n",
      "87          1132481  \n",
      "88          1143552  \n"
     ]
    }
   ],
   "source": [
    "#Finally, concatenating both the dataframes side by side (axis=1):\n",
    "pallets_df_timeseries = pd.concat((pallets_df_t, pallets_df_tplusone), axis=1)\n",
    "print(pallets_df_timeseries.tail())"
   ]
  },
  {
   "cell_type": "markdown",
   "metadata": {},
   "source": [
    " "
   ]
  },
  {
   "cell_type": "markdown",
   "metadata": {},
   "source": [
    "### Setting the Training Input/Output"
   ]
  },
  {
   "cell_type": "code",
   "execution_count": 45,
   "metadata": {},
   "outputs": [
    {
     "data": {
      "text/plain": [
       "0      808016\n",
       "1      825555\n",
       "2      808747\n",
       "3      852275\n",
       "4      861242\n",
       "5      840947\n",
       "6      848339\n",
       "7      868176\n",
       "8      811627\n",
       "9      820254\n",
       "10     778914\n",
       "11     812343\n",
       "12     827800\n",
       "13     832989\n",
       "14     845130\n",
       "15     883790\n",
       "16     881286\n",
       "17     853442\n",
       "18     869483\n",
       "19     882715\n",
       "20     842505\n",
       "21     833755\n",
       "22     788199\n",
       "23     818809\n",
       "24     847348\n",
       "25     869606\n",
       "26     867072\n",
       "27     924636\n",
       "28     919665\n",
       "29     911985\n",
       "       ...   \n",
       "59     958134\n",
       "60     947264\n",
       "61     981564\n",
       "62     966524\n",
       "63    1053853\n",
       "64    1026649\n",
       "65    1026064\n",
       "66    1035764\n",
       "67    1050853\n",
       "68     998531\n",
       "69    1023173\n",
       "70    1025357\n",
       "71     987051\n",
       "72    1011636\n",
       "73    1022201\n",
       "74    1008830\n",
       "75    1075022\n",
       "76    1111690\n",
       "77    1067078\n",
       "78    1085209\n",
       "79    1069346\n",
       "80    1028791\n",
       "81    1028815\n",
       "82     981980\n",
       "83    1021160\n",
       "84    1005903\n",
       "85    1025539\n",
       "86    1050488\n",
       "87    1132481\n",
       "88    1143552\n",
       "Name: IssuesInMonth_1, Length: 89, dtype: int64"
      ]
     },
     "execution_count": 45,
     "metadata": {},
     "output_type": "execute_result"
    }
   ],
   "source": [
    "#Setting the IssuesInMonth feature as the output for each sample of the new DataFrame\n",
    "Y = pallets_df_timeseries.IssuesInMonth_1\n",
    "Y"
   ]
  },
  {
   "cell_type": "code",
   "execution_count": 46,
   "metadata": {
    "scrolled": true
   },
   "outputs": [
    {
     "data": {
      "text/html": [
       "<div>\n",
       "<style scoped>\n",
       "    .dataframe tbody tr th:only-of-type {\n",
       "        vertical-align: middle;\n",
       "    }\n",
       "\n",
       "    .dataframe tbody tr th {\n",
       "        vertical-align: top;\n",
       "    }\n",
       "\n",
       "    .dataframe thead th {\n",
       "        text-align: right;\n",
       "    }\n",
       "</style>\n",
       "<table border=\"1\" class=\"dataframe\">\n",
       "  <thead>\n",
       "    <tr style=\"text-align: right;\">\n",
       "      <th></th>\n",
       "      <th>Month_number</th>\n",
       "      <th>Year</th>\n",
       "      <th>TransfersInMonth</th>\n",
       "      <th>BusinessDaysInMonth</th>\n",
       "      <th>IssuesInMonth</th>\n",
       "      <th>Month_number_1</th>\n",
       "      <th>Year_1</th>\n",
       "      <th>TransfersInMonth_1</th>\n",
       "      <th>BusinessDaysInMonth_1</th>\n",
       "    </tr>\n",
       "  </thead>\n",
       "  <tbody>\n",
       "    <tr>\n",
       "      <th>0</th>\n",
       "      <td>1</td>\n",
       "      <td>2010</td>\n",
       "      <td>730797</td>\n",
       "      <td>22.5</td>\n",
       "      <td>772891</td>\n",
       "      <td>2</td>\n",
       "      <td>2010</td>\n",
       "      <td>751537</td>\n",
       "      <td>21.5</td>\n",
       "    </tr>\n",
       "    <tr>\n",
       "      <th>1</th>\n",
       "      <td>2</td>\n",
       "      <td>2010</td>\n",
       "      <td>751537</td>\n",
       "      <td>21.5</td>\n",
       "      <td>808016</td>\n",
       "      <td>3</td>\n",
       "      <td>2010</td>\n",
       "      <td>790163</td>\n",
       "      <td>22.0</td>\n",
       "    </tr>\n",
       "    <tr>\n",
       "      <th>2</th>\n",
       "      <td>3</td>\n",
       "      <td>2010</td>\n",
       "      <td>790163</td>\n",
       "      <td>22.0</td>\n",
       "      <td>825555</td>\n",
       "      <td>4</td>\n",
       "      <td>2010</td>\n",
       "      <td>780467</td>\n",
       "      <td>27.5</td>\n",
       "    </tr>\n",
       "    <tr>\n",
       "      <th>3</th>\n",
       "      <td>4</td>\n",
       "      <td>2010</td>\n",
       "      <td>780467</td>\n",
       "      <td>27.5</td>\n",
       "      <td>808747</td>\n",
       "      <td>5</td>\n",
       "      <td>2010</td>\n",
       "      <td>785663</td>\n",
       "      <td>22.0</td>\n",
       "    </tr>\n",
       "    <tr>\n",
       "      <th>4</th>\n",
       "      <td>5</td>\n",
       "      <td>2010</td>\n",
       "      <td>785663</td>\n",
       "      <td>22.0</td>\n",
       "      <td>852275</td>\n",
       "      <td>6</td>\n",
       "      <td>2010</td>\n",
       "      <td>881460</td>\n",
       "      <td>24.0</td>\n",
       "    </tr>\n",
       "    <tr>\n",
       "      <th>5</th>\n",
       "      <td>6</td>\n",
       "      <td>2010</td>\n",
       "      <td>881460</td>\n",
       "      <td>24.0</td>\n",
       "      <td>861242</td>\n",
       "      <td>7</td>\n",
       "      <td>2010</td>\n",
       "      <td>833250</td>\n",
       "      <td>23.5</td>\n",
       "    </tr>\n",
       "    <tr>\n",
       "      <th>6</th>\n",
       "      <td>7</td>\n",
       "      <td>2010</td>\n",
       "      <td>833250</td>\n",
       "      <td>23.5</td>\n",
       "      <td>840947</td>\n",
       "      <td>8</td>\n",
       "      <td>2010</td>\n",
       "      <td>817674</td>\n",
       "      <td>22.0</td>\n",
       "    </tr>\n",
       "    <tr>\n",
       "      <th>7</th>\n",
       "      <td>8</td>\n",
       "      <td>2010</td>\n",
       "      <td>817674</td>\n",
       "      <td>22.0</td>\n",
       "      <td>848339</td>\n",
       "      <td>9</td>\n",
       "      <td>2010</td>\n",
       "      <td>794917</td>\n",
       "      <td>21.0</td>\n",
       "    </tr>\n",
       "    <tr>\n",
       "      <th>8</th>\n",
       "      <td>9</td>\n",
       "      <td>2010</td>\n",
       "      <td>794917</td>\n",
       "      <td>21.0</td>\n",
       "      <td>868176</td>\n",
       "      <td>10</td>\n",
       "      <td>2010</td>\n",
       "      <td>811274</td>\n",
       "      <td>27.5</td>\n",
       "    </tr>\n",
       "    <tr>\n",
       "      <th>9</th>\n",
       "      <td>10</td>\n",
       "      <td>2010</td>\n",
       "      <td>811274</td>\n",
       "      <td>27.5</td>\n",
       "      <td>811627</td>\n",
       "      <td>11</td>\n",
       "      <td>2010</td>\n",
       "      <td>770833</td>\n",
       "      <td>20.5</td>\n",
       "    </tr>\n",
       "    <tr>\n",
       "      <th>10</th>\n",
       "      <td>11</td>\n",
       "      <td>2010</td>\n",
       "      <td>770833</td>\n",
       "      <td>20.5</td>\n",
       "      <td>820254</td>\n",
       "      <td>12</td>\n",
       "      <td>2010</td>\n",
       "      <td>800052</td>\n",
       "      <td>25.5</td>\n",
       "    </tr>\n",
       "    <tr>\n",
       "      <th>11</th>\n",
       "      <td>12</td>\n",
       "      <td>2010</td>\n",
       "      <td>800052</td>\n",
       "      <td>25.5</td>\n",
       "      <td>778914</td>\n",
       "      <td>1</td>\n",
       "      <td>2011</td>\n",
       "      <td>784820</td>\n",
       "      <td>26.5</td>\n",
       "    </tr>\n",
       "    <tr>\n",
       "      <th>12</th>\n",
       "      <td>1</td>\n",
       "      <td>2011</td>\n",
       "      <td>784820</td>\n",
       "      <td>26.5</td>\n",
       "      <td>812343</td>\n",
       "      <td>2</td>\n",
       "      <td>2011</td>\n",
       "      <td>773179</td>\n",
       "      <td>21.5</td>\n",
       "    </tr>\n",
       "    <tr>\n",
       "      <th>13</th>\n",
       "      <td>2</td>\n",
       "      <td>2011</td>\n",
       "      <td>773179</td>\n",
       "      <td>21.5</td>\n",
       "      <td>827800</td>\n",
       "      <td>3</td>\n",
       "      <td>2011</td>\n",
       "      <td>800117</td>\n",
       "      <td>22.0</td>\n",
       "    </tr>\n",
       "    <tr>\n",
       "      <th>14</th>\n",
       "      <td>3</td>\n",
       "      <td>2011</td>\n",
       "      <td>800117</td>\n",
       "      <td>22.0</td>\n",
       "      <td>832989</td>\n",
       "      <td>4</td>\n",
       "      <td>2011</td>\n",
       "      <td>793275</td>\n",
       "      <td>27.5</td>\n",
       "    </tr>\n",
       "    <tr>\n",
       "      <th>15</th>\n",
       "      <td>4</td>\n",
       "      <td>2011</td>\n",
       "      <td>793275</td>\n",
       "      <td>27.5</td>\n",
       "      <td>845130</td>\n",
       "      <td>5</td>\n",
       "      <td>2011</td>\n",
       "      <td>813076</td>\n",
       "      <td>21.0</td>\n",
       "    </tr>\n",
       "    <tr>\n",
       "      <th>16</th>\n",
       "      <td>5</td>\n",
       "      <td>2011</td>\n",
       "      <td>813076</td>\n",
       "      <td>21.0</td>\n",
       "      <td>883790</td>\n",
       "      <td>6</td>\n",
       "      <td>2011</td>\n",
       "      <td>866390</td>\n",
       "      <td>20.5</td>\n",
       "    </tr>\n",
       "    <tr>\n",
       "      <th>17</th>\n",
       "      <td>6</td>\n",
       "      <td>2011</td>\n",
       "      <td>866390</td>\n",
       "      <td>20.5</td>\n",
       "      <td>881286</td>\n",
       "      <td>7</td>\n",
       "      <td>2011</td>\n",
       "      <td>849706</td>\n",
       "      <td>28.0</td>\n",
       "    </tr>\n",
       "    <tr>\n",
       "      <th>18</th>\n",
       "      <td>7</td>\n",
       "      <td>2011</td>\n",
       "      <td>849706</td>\n",
       "      <td>28.0</td>\n",
       "      <td>853442</td>\n",
       "      <td>8</td>\n",
       "      <td>2011</td>\n",
       "      <td>809450</td>\n",
       "      <td>22.0</td>\n",
       "    </tr>\n",
       "    <tr>\n",
       "      <th>19</th>\n",
       "      <td>8</td>\n",
       "      <td>2011</td>\n",
       "      <td>809450</td>\n",
       "      <td>22.0</td>\n",
       "      <td>869483</td>\n",
       "      <td>9</td>\n",
       "      <td>2011</td>\n",
       "      <td>822822</td>\n",
       "      <td>21.0</td>\n",
       "    </tr>\n",
       "    <tr>\n",
       "      <th>20</th>\n",
       "      <td>9</td>\n",
       "      <td>2011</td>\n",
       "      <td>822822</td>\n",
       "      <td>21.0</td>\n",
       "      <td>882715</td>\n",
       "      <td>10</td>\n",
       "      <td>2011</td>\n",
       "      <td>853560</td>\n",
       "      <td>27.5</td>\n",
       "    </tr>\n",
       "    <tr>\n",
       "      <th>21</th>\n",
       "      <td>10</td>\n",
       "      <td>2011</td>\n",
       "      <td>853560</td>\n",
       "      <td>27.5</td>\n",
       "      <td>842505</td>\n",
       "      <td>11</td>\n",
       "      <td>2011</td>\n",
       "      <td>797262</td>\n",
       "      <td>20.5</td>\n",
       "    </tr>\n",
       "    <tr>\n",
       "      <th>22</th>\n",
       "      <td>11</td>\n",
       "      <td>2011</td>\n",
       "      <td>797262</td>\n",
       "      <td>20.5</td>\n",
       "      <td>833755</td>\n",
       "      <td>12</td>\n",
       "      <td>2011</td>\n",
       "      <td>836347</td>\n",
       "      <td>21.0</td>\n",
       "    </tr>\n",
       "    <tr>\n",
       "      <th>23</th>\n",
       "      <td>12</td>\n",
       "      <td>2011</td>\n",
       "      <td>836347</td>\n",
       "      <td>21.0</td>\n",
       "      <td>788199</td>\n",
       "      <td>1</td>\n",
       "      <td>2012</td>\n",
       "      <td>814864</td>\n",
       "      <td>26.5</td>\n",
       "    </tr>\n",
       "    <tr>\n",
       "      <th>24</th>\n",
       "      <td>1</td>\n",
       "      <td>2012</td>\n",
       "      <td>814864</td>\n",
       "      <td>26.5</td>\n",
       "      <td>818809</td>\n",
       "      <td>2</td>\n",
       "      <td>2012</td>\n",
       "      <td>774393</td>\n",
       "      <td>22.0</td>\n",
       "    </tr>\n",
       "    <tr>\n",
       "      <th>25</th>\n",
       "      <td>2</td>\n",
       "      <td>2012</td>\n",
       "      <td>774393</td>\n",
       "      <td>22.0</td>\n",
       "      <td>847348</td>\n",
       "      <td>3</td>\n",
       "      <td>2012</td>\n",
       "      <td>804513</td>\n",
       "      <td>22.0</td>\n",
       "    </tr>\n",
       "    <tr>\n",
       "      <th>26</th>\n",
       "      <td>3</td>\n",
       "      <td>2012</td>\n",
       "      <td>804513</td>\n",
       "      <td>22.0</td>\n",
       "      <td>869606</td>\n",
       "      <td>4</td>\n",
       "      <td>2012</td>\n",
       "      <td>827810</td>\n",
       "      <td>27.5</td>\n",
       "    </tr>\n",
       "    <tr>\n",
       "      <th>27</th>\n",
       "      <td>4</td>\n",
       "      <td>2012</td>\n",
       "      <td>827810</td>\n",
       "      <td>27.5</td>\n",
       "      <td>867072</td>\n",
       "      <td>5</td>\n",
       "      <td>2012</td>\n",
       "      <td>823290</td>\n",
       "      <td>21.0</td>\n",
       "    </tr>\n",
       "    <tr>\n",
       "      <th>28</th>\n",
       "      <td>5</td>\n",
       "      <td>2012</td>\n",
       "      <td>823290</td>\n",
       "      <td>21.0</td>\n",
       "      <td>924636</td>\n",
       "      <td>6</td>\n",
       "      <td>2012</td>\n",
       "      <td>885717</td>\n",
       "      <td>22.0</td>\n",
       "    </tr>\n",
       "    <tr>\n",
       "      <th>29</th>\n",
       "      <td>6</td>\n",
       "      <td>2012</td>\n",
       "      <td>885717</td>\n",
       "      <td>22.0</td>\n",
       "      <td>919665</td>\n",
       "      <td>7</td>\n",
       "      <td>2012</td>\n",
       "      <td>896494</td>\n",
       "      <td>26.5</td>\n",
       "    </tr>\n",
       "    <tr>\n",
       "      <th>...</th>\n",
       "      <td>...</td>\n",
       "      <td>...</td>\n",
       "      <td>...</td>\n",
       "      <td>...</td>\n",
       "      <td>...</td>\n",
       "      <td>...</td>\n",
       "      <td>...</td>\n",
       "      <td>...</td>\n",
       "      <td>...</td>\n",
       "    </tr>\n",
       "    <tr>\n",
       "      <th>59</th>\n",
       "      <td>12</td>\n",
       "      <td>2014</td>\n",
       "      <td>954527</td>\n",
       "      <td>23.0</td>\n",
       "      <td>977022</td>\n",
       "      <td>1</td>\n",
       "      <td>2015</td>\n",
       "      <td>956360</td>\n",
       "      <td>23.5</td>\n",
       "    </tr>\n",
       "    <tr>\n",
       "      <th>60</th>\n",
       "      <td>1</td>\n",
       "      <td>2015</td>\n",
       "      <td>956360</td>\n",
       "      <td>23.5</td>\n",
       "      <td>958134</td>\n",
       "      <td>2</td>\n",
       "      <td>2015</td>\n",
       "      <td>900781</td>\n",
       "      <td>22.0</td>\n",
       "    </tr>\n",
       "    <tr>\n",
       "      <th>61</th>\n",
       "      <td>2</td>\n",
       "      <td>2015</td>\n",
       "      <td>900781</td>\n",
       "      <td>22.0</td>\n",
       "      <td>947264</td>\n",
       "      <td>3</td>\n",
       "      <td>2015</td>\n",
       "      <td>875933</td>\n",
       "      <td>22.0</td>\n",
       "    </tr>\n",
       "    <tr>\n",
       "      <th>62</th>\n",
       "      <td>3</td>\n",
       "      <td>2015</td>\n",
       "      <td>875933</td>\n",
       "      <td>22.0</td>\n",
       "      <td>981564</td>\n",
       "      <td>4</td>\n",
       "      <td>2015</td>\n",
       "      <td>955560</td>\n",
       "      <td>27.5</td>\n",
       "    </tr>\n",
       "    <tr>\n",
       "      <th>63</th>\n",
       "      <td>4</td>\n",
       "      <td>2015</td>\n",
       "      <td>955560</td>\n",
       "      <td>27.5</td>\n",
       "      <td>966524</td>\n",
       "      <td>5</td>\n",
       "      <td>2015</td>\n",
       "      <td>893838</td>\n",
       "      <td>21.0</td>\n",
       "    </tr>\n",
       "    <tr>\n",
       "      <th>64</th>\n",
       "      <td>5</td>\n",
       "      <td>2015</td>\n",
       "      <td>893838</td>\n",
       "      <td>21.0</td>\n",
       "      <td>1053853</td>\n",
       "      <td>6</td>\n",
       "      <td>2015</td>\n",
       "      <td>1003616</td>\n",
       "      <td>24.0</td>\n",
       "    </tr>\n",
       "    <tr>\n",
       "      <th>65</th>\n",
       "      <td>6</td>\n",
       "      <td>2015</td>\n",
       "      <td>1003616</td>\n",
       "      <td>24.0</td>\n",
       "      <td>1026649</td>\n",
       "      <td>7</td>\n",
       "      <td>2015</td>\n",
       "      <td>963848</td>\n",
       "      <td>24.5</td>\n",
       "    </tr>\n",
       "    <tr>\n",
       "      <th>66</th>\n",
       "      <td>7</td>\n",
       "      <td>2015</td>\n",
       "      <td>963848</td>\n",
       "      <td>24.5</td>\n",
       "      <td>1026064</td>\n",
       "      <td>8</td>\n",
       "      <td>2015</td>\n",
       "      <td>961831</td>\n",
       "      <td>22.0</td>\n",
       "    </tr>\n",
       "    <tr>\n",
       "      <th>67</th>\n",
       "      <td>8</td>\n",
       "      <td>2015</td>\n",
       "      <td>961831</td>\n",
       "      <td>22.0</td>\n",
       "      <td>1035764</td>\n",
       "      <td>9</td>\n",
       "      <td>2015</td>\n",
       "      <td>956732</td>\n",
       "      <td>21.0</td>\n",
       "    </tr>\n",
       "    <tr>\n",
       "      <th>68</th>\n",
       "      <td>9</td>\n",
       "      <td>2015</td>\n",
       "      <td>956732</td>\n",
       "      <td>21.0</td>\n",
       "      <td>1050853</td>\n",
       "      <td>10</td>\n",
       "      <td>2015</td>\n",
       "      <td>965195</td>\n",
       "      <td>27.5</td>\n",
       "    </tr>\n",
       "    <tr>\n",
       "      <th>69</th>\n",
       "      <td>10</td>\n",
       "      <td>2015</td>\n",
       "      <td>965195</td>\n",
       "      <td>27.5</td>\n",
       "      <td>998531</td>\n",
       "      <td>11</td>\n",
       "      <td>2015</td>\n",
       "      <td>953473</td>\n",
       "      <td>20.5</td>\n",
       "    </tr>\n",
       "    <tr>\n",
       "      <th>70</th>\n",
       "      <td>11</td>\n",
       "      <td>2015</td>\n",
       "      <td>953473</td>\n",
       "      <td>20.5</td>\n",
       "      <td>1023173</td>\n",
       "      <td>12</td>\n",
       "      <td>2015</td>\n",
       "      <td>967744</td>\n",
       "      <td>24.0</td>\n",
       "    </tr>\n",
       "    <tr>\n",
       "      <th>71</th>\n",
       "      <td>12</td>\n",
       "      <td>2015</td>\n",
       "      <td>967744</td>\n",
       "      <td>24.0</td>\n",
       "      <td>1025357</td>\n",
       "      <td>1</td>\n",
       "      <td>2016</td>\n",
       "      <td>998827</td>\n",
       "      <td>22.5</td>\n",
       "    </tr>\n",
       "    <tr>\n",
       "      <th>72</th>\n",
       "      <td>1</td>\n",
       "      <td>2016</td>\n",
       "      <td>998827</td>\n",
       "      <td>22.5</td>\n",
       "      <td>987051</td>\n",
       "      <td>2</td>\n",
       "      <td>2016</td>\n",
       "      <td>954858</td>\n",
       "      <td>22.0</td>\n",
       "    </tr>\n",
       "    <tr>\n",
       "      <th>73</th>\n",
       "      <td>2</td>\n",
       "      <td>2016</td>\n",
       "      <td>954858</td>\n",
       "      <td>22.0</td>\n",
       "      <td>1011636</td>\n",
       "      <td>3</td>\n",
       "      <td>2016</td>\n",
       "      <td>943432</td>\n",
       "      <td>22.0</td>\n",
       "    </tr>\n",
       "    <tr>\n",
       "      <th>74</th>\n",
       "      <td>3</td>\n",
       "      <td>2016</td>\n",
       "      <td>943432</td>\n",
       "      <td>22.0</td>\n",
       "      <td>1022201</td>\n",
       "      <td>4</td>\n",
       "      <td>2016</td>\n",
       "      <td>989685</td>\n",
       "      <td>27.5</td>\n",
       "    </tr>\n",
       "    <tr>\n",
       "      <th>75</th>\n",
       "      <td>4</td>\n",
       "      <td>2016</td>\n",
       "      <td>989685</td>\n",
       "      <td>27.5</td>\n",
       "      <td>1008830</td>\n",
       "      <td>5</td>\n",
       "      <td>2016</td>\n",
       "      <td>958739</td>\n",
       "      <td>22.0</td>\n",
       "    </tr>\n",
       "    <tr>\n",
       "      <th>76</th>\n",
       "      <td>5</td>\n",
       "      <td>2016</td>\n",
       "      <td>958739</td>\n",
       "      <td>22.0</td>\n",
       "      <td>1075022</td>\n",
       "      <td>6</td>\n",
       "      <td>2016</td>\n",
       "      <td>1020031</td>\n",
       "      <td>25.0</td>\n",
       "    </tr>\n",
       "    <tr>\n",
       "      <th>77</th>\n",
       "      <td>6</td>\n",
       "      <td>2016</td>\n",
       "      <td>1020031</td>\n",
       "      <td>25.0</td>\n",
       "      <td>1111690</td>\n",
       "      <td>7</td>\n",
       "      <td>2016</td>\n",
       "      <td>1062011</td>\n",
       "      <td>28.0</td>\n",
       "    </tr>\n",
       "    <tr>\n",
       "      <th>78</th>\n",
       "      <td>7</td>\n",
       "      <td>2016</td>\n",
       "      <td>1062011</td>\n",
       "      <td>28.0</td>\n",
       "      <td>1067078</td>\n",
       "      <td>8</td>\n",
       "      <td>2016</td>\n",
       "      <td>1003646</td>\n",
       "      <td>22.0</td>\n",
       "    </tr>\n",
       "    <tr>\n",
       "      <th>79</th>\n",
       "      <td>8</td>\n",
       "      <td>2016</td>\n",
       "      <td>1003646</td>\n",
       "      <td>22.0</td>\n",
       "      <td>1085209</td>\n",
       "      <td>9</td>\n",
       "      <td>2016</td>\n",
       "      <td>1025005</td>\n",
       "      <td>21.0</td>\n",
       "    </tr>\n",
       "    <tr>\n",
       "      <th>80</th>\n",
       "      <td>9</td>\n",
       "      <td>2016</td>\n",
       "      <td>1025005</td>\n",
       "      <td>21.0</td>\n",
       "      <td>1069346</td>\n",
       "      <td>10</td>\n",
       "      <td>2016</td>\n",
       "      <td>1011968</td>\n",
       "      <td>27.5</td>\n",
       "    </tr>\n",
       "    <tr>\n",
       "      <th>81</th>\n",
       "      <td>10</td>\n",
       "      <td>2016</td>\n",
       "      <td>1011968</td>\n",
       "      <td>27.5</td>\n",
       "      <td>1028791</td>\n",
       "      <td>11</td>\n",
       "      <td>2016</td>\n",
       "      <td>968428</td>\n",
       "      <td>20.5</td>\n",
       "    </tr>\n",
       "    <tr>\n",
       "      <th>82</th>\n",
       "      <td>11</td>\n",
       "      <td>2016</td>\n",
       "      <td>968428</td>\n",
       "      <td>20.5</td>\n",
       "      <td>1028815</td>\n",
       "      <td>12</td>\n",
       "      <td>2016</td>\n",
       "      <td>989192</td>\n",
       "      <td>21.0</td>\n",
       "    </tr>\n",
       "    <tr>\n",
       "      <th>83</th>\n",
       "      <td>12</td>\n",
       "      <td>2016</td>\n",
       "      <td>989192</td>\n",
       "      <td>21.0</td>\n",
       "      <td>981980</td>\n",
       "      <td>1</td>\n",
       "      <td>2017</td>\n",
       "      <td>996091</td>\n",
       "      <td>26.5</td>\n",
       "    </tr>\n",
       "    <tr>\n",
       "      <th>84</th>\n",
       "      <td>1</td>\n",
       "      <td>2017</td>\n",
       "      <td>996091</td>\n",
       "      <td>26.5</td>\n",
       "      <td>1021160</td>\n",
       "      <td>2</td>\n",
       "      <td>2017</td>\n",
       "      <td>928621</td>\n",
       "      <td>22.0</td>\n",
       "    </tr>\n",
       "    <tr>\n",
       "      <th>85</th>\n",
       "      <td>2</td>\n",
       "      <td>2017</td>\n",
       "      <td>928621</td>\n",
       "      <td>22.0</td>\n",
       "      <td>1005903</td>\n",
       "      <td>3</td>\n",
       "      <td>2017</td>\n",
       "      <td>927348</td>\n",
       "      <td>22.0</td>\n",
       "    </tr>\n",
       "    <tr>\n",
       "      <th>86</th>\n",
       "      <td>3</td>\n",
       "      <td>2017</td>\n",
       "      <td>927348</td>\n",
       "      <td>22.0</td>\n",
       "      <td>1025539</td>\n",
       "      <td>4</td>\n",
       "      <td>2017</td>\n",
       "      <td>988990</td>\n",
       "      <td>27.5</td>\n",
       "    </tr>\n",
       "    <tr>\n",
       "      <th>87</th>\n",
       "      <td>4</td>\n",
       "      <td>2017</td>\n",
       "      <td>988990</td>\n",
       "      <td>27.5</td>\n",
       "      <td>1050488</td>\n",
       "      <td>5</td>\n",
       "      <td>2017</td>\n",
       "      <td>978562</td>\n",
       "      <td>21.0</td>\n",
       "    </tr>\n",
       "    <tr>\n",
       "      <th>88</th>\n",
       "      <td>5</td>\n",
       "      <td>2017</td>\n",
       "      <td>978562</td>\n",
       "      <td>21.0</td>\n",
       "      <td>1132481</td>\n",
       "      <td>6</td>\n",
       "      <td>2017</td>\n",
       "      <td>1047903</td>\n",
       "      <td>21.5</td>\n",
       "    </tr>\n",
       "  </tbody>\n",
       "</table>\n",
       "<p>89 rows × 9 columns</p>\n",
       "</div>"
      ],
      "text/plain": [
       "    Month_number  Year  TransfersInMonth  BusinessDaysInMonth  IssuesInMonth  \\\n",
       "0              1  2010            730797                 22.5         772891   \n",
       "1              2  2010            751537                 21.5         808016   \n",
       "2              3  2010            790163                 22.0         825555   \n",
       "3              4  2010            780467                 27.5         808747   \n",
       "4              5  2010            785663                 22.0         852275   \n",
       "5              6  2010            881460                 24.0         861242   \n",
       "6              7  2010            833250                 23.5         840947   \n",
       "7              8  2010            817674                 22.0         848339   \n",
       "8              9  2010            794917                 21.0         868176   \n",
       "9             10  2010            811274                 27.5         811627   \n",
       "10            11  2010            770833                 20.5         820254   \n",
       "11            12  2010            800052                 25.5         778914   \n",
       "12             1  2011            784820                 26.5         812343   \n",
       "13             2  2011            773179                 21.5         827800   \n",
       "14             3  2011            800117                 22.0         832989   \n",
       "15             4  2011            793275                 27.5         845130   \n",
       "16             5  2011            813076                 21.0         883790   \n",
       "17             6  2011            866390                 20.5         881286   \n",
       "18             7  2011            849706                 28.0         853442   \n",
       "19             8  2011            809450                 22.0         869483   \n",
       "20             9  2011            822822                 21.0         882715   \n",
       "21            10  2011            853560                 27.5         842505   \n",
       "22            11  2011            797262                 20.5         833755   \n",
       "23            12  2011            836347                 21.0         788199   \n",
       "24             1  2012            814864                 26.5         818809   \n",
       "25             2  2012            774393                 22.0         847348   \n",
       "26             3  2012            804513                 22.0         869606   \n",
       "27             4  2012            827810                 27.5         867072   \n",
       "28             5  2012            823290                 21.0         924636   \n",
       "29             6  2012            885717                 22.0         919665   \n",
       "..           ...   ...               ...                  ...            ...   \n",
       "59            12  2014            954527                 23.0         977022   \n",
       "60             1  2015            956360                 23.5         958134   \n",
       "61             2  2015            900781                 22.0         947264   \n",
       "62             3  2015            875933                 22.0         981564   \n",
       "63             4  2015            955560                 27.5         966524   \n",
       "64             5  2015            893838                 21.0        1053853   \n",
       "65             6  2015           1003616                 24.0        1026649   \n",
       "66             7  2015            963848                 24.5        1026064   \n",
       "67             8  2015            961831                 22.0        1035764   \n",
       "68             9  2015            956732                 21.0        1050853   \n",
       "69            10  2015            965195                 27.5         998531   \n",
       "70            11  2015            953473                 20.5        1023173   \n",
       "71            12  2015            967744                 24.0        1025357   \n",
       "72             1  2016            998827                 22.5         987051   \n",
       "73             2  2016            954858                 22.0        1011636   \n",
       "74             3  2016            943432                 22.0        1022201   \n",
       "75             4  2016            989685                 27.5        1008830   \n",
       "76             5  2016            958739                 22.0        1075022   \n",
       "77             6  2016           1020031                 25.0        1111690   \n",
       "78             7  2016           1062011                 28.0        1067078   \n",
       "79             8  2016           1003646                 22.0        1085209   \n",
       "80             9  2016           1025005                 21.0        1069346   \n",
       "81            10  2016           1011968                 27.5        1028791   \n",
       "82            11  2016            968428                 20.5        1028815   \n",
       "83            12  2016            989192                 21.0         981980   \n",
       "84             1  2017            996091                 26.5        1021160   \n",
       "85             2  2017            928621                 22.0        1005903   \n",
       "86             3  2017            927348                 22.0        1025539   \n",
       "87             4  2017            988990                 27.5        1050488   \n",
       "88             5  2017            978562                 21.0        1132481   \n",
       "\n",
       "    Month_number_1  Year_1  TransfersInMonth_1  BusinessDaysInMonth_1  \n",
       "0                2    2010              751537                   21.5  \n",
       "1                3    2010              790163                   22.0  \n",
       "2                4    2010              780467                   27.5  \n",
       "3                5    2010              785663                   22.0  \n",
       "4                6    2010              881460                   24.0  \n",
       "5                7    2010              833250                   23.5  \n",
       "6                8    2010              817674                   22.0  \n",
       "7                9    2010              794917                   21.0  \n",
       "8               10    2010              811274                   27.5  \n",
       "9               11    2010              770833                   20.5  \n",
       "10              12    2010              800052                   25.5  \n",
       "11               1    2011              784820                   26.5  \n",
       "12               2    2011              773179                   21.5  \n",
       "13               3    2011              800117                   22.0  \n",
       "14               4    2011              793275                   27.5  \n",
       "15               5    2011              813076                   21.0  \n",
       "16               6    2011              866390                   20.5  \n",
       "17               7    2011              849706                   28.0  \n",
       "18               8    2011              809450                   22.0  \n",
       "19               9    2011              822822                   21.0  \n",
       "20              10    2011              853560                   27.5  \n",
       "21              11    2011              797262                   20.5  \n",
       "22              12    2011              836347                   21.0  \n",
       "23               1    2012              814864                   26.5  \n",
       "24               2    2012              774393                   22.0  \n",
       "25               3    2012              804513                   22.0  \n",
       "26               4    2012              827810                   27.5  \n",
       "27               5    2012              823290                   21.0  \n",
       "28               6    2012              885717                   22.0  \n",
       "29               7    2012              896494                   26.5  \n",
       "..             ...     ...                 ...                    ...  \n",
       "59               1    2015              956360                   23.5  \n",
       "60               2    2015              900781                   22.0  \n",
       "61               3    2015              875933                   22.0  \n",
       "62               4    2015              955560                   27.5  \n",
       "63               5    2015              893838                   21.0  \n",
       "64               6    2015             1003616                   24.0  \n",
       "65               7    2015              963848                   24.5  \n",
       "66               8    2015              961831                   22.0  \n",
       "67               9    2015              956732                   21.0  \n",
       "68              10    2015              965195                   27.5  \n",
       "69              11    2015              953473                   20.5  \n",
       "70              12    2015              967744                   24.0  \n",
       "71               1    2016              998827                   22.5  \n",
       "72               2    2016              954858                   22.0  \n",
       "73               3    2016              943432                   22.0  \n",
       "74               4    2016              989685                   27.5  \n",
       "75               5    2016              958739                   22.0  \n",
       "76               6    2016             1020031                   25.0  \n",
       "77               7    2016             1062011                   28.0  \n",
       "78               8    2016             1003646                   22.0  \n",
       "79               9    2016             1025005                   21.0  \n",
       "80              10    2016             1011968                   27.5  \n",
       "81              11    2016              968428                   20.5  \n",
       "82              12    2016              989192                   21.0  \n",
       "83               1    2017              996091                   26.5  \n",
       "84               2    2017              928621                   22.0  \n",
       "85               3    2017              927348                   22.0  \n",
       "86               4    2017              988990                   27.5  \n",
       "87               5    2017              978562                   21.0  \n",
       "88               6    2017             1047903                   21.5  \n",
       "\n",
       "[89 rows x 9 columns]"
      ]
     },
     "execution_count": 46,
     "metadata": {},
     "output_type": "execute_result"
    }
   ],
   "source": [
    "#Taking out column names:\n",
    "column_names = pallets_df_timeseries.columns\n",
    "\n",
    "#Setting all the Input features in a DataFrame: \n",
    "X = pallets_df_timeseries[column_names[0:9]]\n",
    "X"
   ]
  },
  {
   "cell_type": "code",
   "execution_count": 47,
   "metadata": {},
   "outputs": [
    {
     "name": "stdout",
     "output_type": "stream",
     "text": [
      "(82, 9)\n",
      "(82,)\n",
      "(7, 9)\n",
      "(7,)\n"
     ]
    }
   ],
   "source": [
    "#Setting up Training and Test set \n",
    "from sklearn.model_selection import train_test_split\n",
    "\n",
    "#The functions randomly picks up samples from the dataset and puts them in train and test dataset:\n",
    "X_train, X_test, y_train, y_test = train_test_split(X, Y, test_size=0.0681, random_state=7)\n",
    "print(X_train.shape)\n",
    "print(y_train.shape)\n",
    "print(X_test.shape)\n",
    "print(y_test.shape)"
   ]
  },
  {
   "cell_type": "markdown",
   "metadata": {},
   "source": [
    " "
   ]
  },
  {
   "cell_type": "markdown",
   "metadata": {},
   "source": [
    "### Constructing Models"
   ]
  },
  {
   "cell_type": "code",
   "execution_count": 48,
   "metadata": {},
   "outputs": [],
   "source": [
    "#Creating a function for MAPE as there is no inbuilt function in Scikit-Learn for that:\n",
    "import numpy as np\n",
    "def mean_absolute_percentage_error(y_true, y_pred): \n",
    "    y_true, y_pred = np.array(y_true), np.array(y_pred)\n",
    "    return np.mean(np.abs((y_true - y_pred) / y_true)) * 100"
   ]
  },
  {
   "cell_type": "markdown",
   "metadata": {},
   "source": [
    "##### Linear Regression Model:"
   ]
  },
  {
   "cell_type": "code",
   "execution_count": 49,
   "metadata": {
    "scrolled": true
   },
   "outputs": [
    {
     "name": "stdout",
     "output_type": "stream",
     "text": [
      "\n",
      " Predictions-> \n",
      " [848303.92077744 978846.62387048 847824.45195407 849100.39521195\n",
      " 856525.52687332 950277.31930824 780253.74292874]\n",
      "\n",
      " True values were -> \n",
      " 13    832989\n",
      "51    992663\n",
      "17    853442\n",
      "20    842505\n",
      "12    827800\n",
      "41    956841\n",
      "11    812343\n",
      "Name: IssuesInMonth_1, dtype: int64\n",
      "The MAPE on the Linear Model is: \n",
      " 1.8253918623445904\n"
     ]
    }
   ],
   "source": [
    "#Creating the model:\n",
    "lm = linear_model.LinearRegression()\n",
    "\n",
    "#Fitting the model: \n",
    "lin_model = lm.fit(X_train,y_train)\n",
    "\n",
    "#Predictions \n",
    "predictions_linear_model = lm.predict(X_test)\n",
    "print('\\n Predictions-> \\n', predictions_linear_model)\n",
    "print('\\n True values were -> \\n', y_test)\n",
    "\n",
    "#Calculating MAPE:\n",
    "MAPE_on_Linearmodel = mean_absolute_percentage_error(y_test, predictions_linear_model)\n",
    "print('The MAPE on the Linear Model is: \\n', MAPE_on_Linearmodel)"
   ]
  },
  {
   "cell_type": "markdown",
   "metadata": {},
   "source": [
    " "
   ]
  },
  {
   "cell_type": "markdown",
   "metadata": {},
   "source": [
    " "
   ]
  },
  {
   "cell_type": "markdown",
   "metadata": {},
   "source": [
    "# Predicting values of Issues for the next 6 months"
   ]
  },
  {
   "cell_type": "code",
   "execution_count": 50,
   "metadata": {},
   "outputs": [],
   "source": [
    "#Dataset location\n",
    "bxb_test_file_location = r\"C:\\Users\\Bada Rock\\Downloads\\Test_data.csv\"\n",
    "#Loading Datset: \n",
    "input_data_sixmonths = pd.read_csv(bxb_test_file_location)"
   ]
  },
  {
   "cell_type": "markdown",
   "metadata": {},
   "source": [
    "### Feature Engineering Again"
   ]
  },
  {
   "cell_type": "markdown",
   "metadata": {},
   "source": [
    "***Why?***: \n",
    "\n",
    "This is done to further allow the conversion of this Time Series problem into a Supervised Learning Problem\n",
    "\n",
    "***What?***: \n",
    "\n",
    "Breaking down the 'Month' column which contains string data as: 'mm/dd/yyyy' \n",
    "into two columns - 'Month_number' and 'Year', which just specifically contains the value of the\n",
    "Month and Year. \n",
    "\n",
    "***Dropping***: \n",
    "\n",
    "Dates as they are of no use in monthwise prediction"
   ]
  },
  {
   "cell_type": "code",
   "execution_count": 51,
   "metadata": {
    "scrolled": false
   },
   "outputs": [
    {
     "name": "stdout",
     "output_type": "stream",
     "text": [
      "  Month_number  Year  TransfersInMonth  BusinessDaysInMonth\n",
      "0            7  2017           1056019                 27.0\n",
      "1            8  2017           1021590                 22.0\n",
      "2            9  2017           1010038                 21.0\n",
      "3           10  2017           1067153                 27.5\n",
      "4           11  2017           1042316                 20.5\n",
      "5           12  2017           1059981                 20.0\n"
     ]
    }
   ],
   "source": [
    "#FIRST, WORKING ON THE TRAINING DATASET FIRST(pallets_df):\n",
    "#Breaking down Month's 'mm/dd/yyyy' into 3 columns:\n",
    "broken_down_df = (input_data_sixmonths['Month'].str.split('/', expand=True))\n",
    "broken_down_df.columns = ['Month_number', 'Date', 'Year']\n",
    "#Deleting the 'Date' column from this as we no longer need it: \n",
    "del broken_down_df['Date']\n",
    "\n",
    "#Concatenating this with the original 'pallets_df' dataframe and replacing the original: \n",
    "input_data_sixmonths = pd.concat((broken_down_df, input_data_sixmonths), axis=1)\n",
    "#Deleting the original 'Month' column as we no long need it\n",
    "del input_data_sixmonths['Month']\n",
    "\n",
    "#Final result after the transformations:\n",
    "print(input_data_sixmonths)"
   ]
  },
  {
   "cell_type": "markdown",
   "metadata": {},
   "source": [
    " "
   ]
  },
  {
   "cell_type": "markdown",
   "metadata": {},
   "source": [
    "### Converting all the values in the DataFrame to Numeric \n"
   ]
  },
  {
   "cell_type": "markdown",
   "metadata": {},
   "source": [
    "***Why?***: \n",
    "\n",
    "Necessary as both the values of both the new columns created (Month_number and Year) are of the type 'str' because of the command 'split' used on the them."
   ]
  },
  {
   "cell_type": "code",
   "execution_count": 52,
   "metadata": {
    "scrolled": true
   },
   "outputs": [
    {
     "name": "stdout",
     "output_type": "stream",
     "text": [
      "Type of the columns before conversion: \n",
      " <class 'str'>\n",
      "\n",
      "Type of the columns after conversion: \n",
      " <class 'numpy.int64'>\n"
     ]
    }
   ],
   "source": [
    "#Type before conversion: \n",
    "print('Type of the columns before conversion: \\n', \n",
    "      type(input_data_sixmonths.Month_number.iloc[3])\n",
    "     ) \n",
    "\n",
    "#Converting the whole dataframe into Numeric type: \n",
    "input_data_sixmonths = input_data_sixmonths.apply(pd.to_numeric)\n",
    "\n",
    "#Type after conversion: \n",
    "print('\\nType of the columns after conversion: \\n', \n",
    "      type(input_data_sixmonths.Month_number.iloc[3])\n",
    "     ) \n"
   ]
  },
  {
   "cell_type": "markdown",
   "metadata": {},
   "source": [
    "##### Changing the column names\n",
    "\n",
    "For the month of July, this has to be done so as to allow the concatenation of the dataframes pallets_df_timeseries and this input_data_sixmonths columnwise."
   ]
  },
  {
   "cell_type": "code",
   "execution_count": 53,
   "metadata": {},
   "outputs": [
    {
     "data": {
      "text/html": [
       "<div>\n",
       "<style scoped>\n",
       "    .dataframe tbody tr th:only-of-type {\n",
       "        vertical-align: middle;\n",
       "    }\n",
       "\n",
       "    .dataframe tbody tr th {\n",
       "        vertical-align: top;\n",
       "    }\n",
       "\n",
       "    .dataframe thead th {\n",
       "        text-align: right;\n",
       "    }\n",
       "</style>\n",
       "<table border=\"1\" class=\"dataframe\">\n",
       "  <thead>\n",
       "    <tr style=\"text-align: right;\">\n",
       "      <th></th>\n",
       "      <th>Month_number_1</th>\n",
       "      <th>Year_1</th>\n",
       "      <th>TransfersInMonth_1</th>\n",
       "      <th>BusinessDaysInMonth_1</th>\n",
       "    </tr>\n",
       "  </thead>\n",
       "  <tbody>\n",
       "    <tr>\n",
       "      <th>0</th>\n",
       "      <td>7</td>\n",
       "      <td>2017</td>\n",
       "      <td>1056019</td>\n",
       "      <td>27.0</td>\n",
       "    </tr>\n",
       "    <tr>\n",
       "      <th>1</th>\n",
       "      <td>8</td>\n",
       "      <td>2017</td>\n",
       "      <td>1021590</td>\n",
       "      <td>22.0</td>\n",
       "    </tr>\n",
       "    <tr>\n",
       "      <th>2</th>\n",
       "      <td>9</td>\n",
       "      <td>2017</td>\n",
       "      <td>1010038</td>\n",
       "      <td>21.0</td>\n",
       "    </tr>\n",
       "    <tr>\n",
       "      <th>3</th>\n",
       "      <td>10</td>\n",
       "      <td>2017</td>\n",
       "      <td>1067153</td>\n",
       "      <td>27.5</td>\n",
       "    </tr>\n",
       "    <tr>\n",
       "      <th>4</th>\n",
       "      <td>11</td>\n",
       "      <td>2017</td>\n",
       "      <td>1042316</td>\n",
       "      <td>20.5</td>\n",
       "    </tr>\n",
       "    <tr>\n",
       "      <th>5</th>\n",
       "      <td>12</td>\n",
       "      <td>2017</td>\n",
       "      <td>1059981</td>\n",
       "      <td>20.0</td>\n",
       "    </tr>\n",
       "  </tbody>\n",
       "</table>\n",
       "</div>"
      ],
      "text/plain": [
       "   Month_number_1  Year_1  TransfersInMonth_1  BusinessDaysInMonth_1\n",
       "0               7    2017             1056019                   27.0\n",
       "1               8    2017             1021590                   22.0\n",
       "2               9    2017             1010038                   21.0\n",
       "3              10    2017             1067153                   27.5\n",
       "4              11    2017             1042316                   20.5\n",
       "5              12    2017             1059981                   20.0"
      ]
     },
     "execution_count": 53,
     "metadata": {},
     "output_type": "execute_result"
    }
   ],
   "source": [
    "input_data_sixmonths.columns=['Month_number_1', 'Year_1', 'TransfersInMonth_1', 'BusinessDaysInMonth_1']\n",
    "input_data_sixmonths"
   ]
  },
  {
   "cell_type": "markdown",
   "metadata": {},
   "source": [
    "##### Predicting the number of Pallets issued in July, 2017:"
   ]
  },
  {
   "cell_type": "code",
   "execution_count": 54,
   "metadata": {
    "scrolled": true
   },
   "outputs": [
    {
     "name": "stdout",
     "output_type": "stream",
     "text": [
      "   Month_number  Year  TransfersInMonth  BusinessDaysInMonth  IssuesInMonth\n",
      "0             6  2017           1047903                 21.5        1143552\n",
      "1             5  2017            978562                 21.0        1132481\n",
      "   Month_number_1  Year_1  TransfersInMonth_1  BusinessDaysInMonth_1\n",
      "0               7    2017             1056019                   27.0\n",
      "1               8    2017             1021590                   22.0\n",
      "   Month_number  Year  TransfersInMonth  BusinessDaysInMonth  IssuesInMonth  \\\n",
      "0             6  2017           1047903                 21.5        1143552   \n",
      "1             5  2017            978562                 21.0        1132481   \n",
      "\n",
      "   Month_number_1  Year_1  TransfersInMonth_1  BusinessDaysInMonth_1  \n",
      "0               7    2017             1056019                   27.0  \n",
      "1               8    2017             1021590                   22.0  \n",
      "Month_number                   6.0\n",
      "Year                        2017.0\n",
      "TransfersInMonth         1047903.0\n",
      "BusinessDaysInMonth           21.5\n",
      "IssuesInMonth            1143552.0\n",
      "Month_number_1                 7.0\n",
      "Year_1                      2017.0\n",
      "TransfersInMonth_1       1056019.0\n",
      "BusinessDaysInMonth_1         27.0\n",
      "Name: 0, dtype: float64\n",
      "\n",
      " Predictions-> \n",
      " [1104445.72092975]\n"
     ]
    },
    {
     "name": "stderr",
     "output_type": "stream",
     "text": [
      "C:\\Users\\Bada Rock\\AppData\\Local\\conda\\conda\\envs\\tensorflow\\lib\\site-packages\\ipykernel_launcher.py:24: FutureWarning: reshape is deprecated and will raise in a subsequent release. Please use .values.reshape(...) instead\n"
     ]
    }
   ],
   "source": [
    "#Taking all two rows 5 features of the previous month: \n",
    "temp_1 = pallets_df_2010.loc[88:89]\n",
    "temp_1 = temp_1.reset_index(drop=True)\n",
    "temp_1 = temp_1.sort_values(['Month_number'], ascending=False)\n",
    "temp_1 = temp_1.reset_index(drop=True)\n",
    "print(temp_1)\n",
    "\n",
    "#Taking two rows of 4 features from the Test_data.csv file: \n",
    "temp_2 = input_data_sixmonths.loc[0:1]\n",
    "temp_2 = temp_2.reset_index(drop=True)\n",
    "print(temp_2)\n",
    "\n",
    "#Concatenating both the above dataframes: \n",
    "july_2017_input_data = pd.concat((temp_1, temp_2), axis=1)\n",
    "print(july_2017_input_data)\n",
    "\n",
    "#Choosing just the first row of the dataframe to get the Input features for predicting\n",
    "#the number of issues in the July Month: \n",
    "july_2017_input_data = july_2017_input_data.loc[0]\n",
    "print(july_2017_input_data)\n",
    "\n",
    "#Predictions \n",
    "#As it is a single sample, we have to reshape it: \n",
    "july_2017_input_data = july_2017_input_data.reshape(1, -1)\n",
    "\n",
    "#Predictions for that single sample: \n",
    "prediction_july = lm.predict(july_2017_input_data)\n",
    "print('\\n Prediction of July-> \\n', prediction_july)"
   ]
  },
  {
   "cell_type": "markdown",
   "metadata": {},
   "source": [
    "##### Predictions for August, 2017:"
   ]
  },
  {
   "cell_type": "code",
   "execution_count": 55,
   "metadata": {
    "scrolled": false
   },
   "outputs": [],
   "source": [
    "#Creating a new column in the input_data_sixmonths dataframe in which we'll fill the \n",
    "#predictions we get along the way for each month: \n",
    "input_data_sixmonths['IssuesInMonth'] = pd.Series(np.random.randn(6), index=input_data_sixmonths.index)"
   ]
  },
  {
   "cell_type": "code",
   "execution_count": 56,
   "metadata": {
    "scrolled": true
   },
   "outputs": [
    {
     "name": "stdout",
     "output_type": "stream",
     "text": [
      "   Month_number  Year  TransfersInMonth  BusinessDaysInMonth  IssuesInMonth\n",
      "0             7  2017           1056019                 27.0   1.104446e+06\n",
      "1             8  2017           1021590                 22.0   1.693019e+00\n",
      "   Month_number_1  Year_1  TransfersInMonth_1  BusinessDaysInMonth_1\n",
      "0               8    2017             1021590                   22.0\n",
      "1               9    2017             1010038                   21.0\n",
      "   Month_number  Year  TransfersInMonth  BusinessDaysInMonth  IssuesInMonth  \\\n",
      "0             7  2017           1056019                 27.0   1.104446e+06   \n",
      "1             8  2017           1021590                 22.0   1.693019e+00   \n",
      "\n",
      "   Month_number_1  Year_1  TransfersInMonth_1  BusinessDaysInMonth_1  \n",
      "0               8    2017             1021590                   22.0  \n",
      "1               9    2017             1010038                   21.0  \n",
      "Month_number             7.000000e+00\n",
      "Year                     2.017000e+03\n",
      "TransfersInMonth         1.056019e+06\n",
      "BusinessDaysInMonth      2.700000e+01\n",
      "IssuesInMonth            1.104446e+06\n",
      "Month_number_1           8.000000e+00\n",
      "Year_1                   2.017000e+03\n",
      "TransfersInMonth_1       1.021590e+06\n",
      "BusinessDaysInMonth_1    2.200000e+01\n",
      "Name: 0, dtype: float64\n",
      "<class 'pandas.core.series.Series'>\n",
      "\n",
      " Predictions-> \n",
      " [1112348.90209873]\n"
     ]
    },
    {
     "name": "stderr",
     "output_type": "stream",
     "text": [
      "C:\\Users\\Bada Rock\\AppData\\Local\\conda\\conda\\envs\\tensorflow\\lib\\site-packages\\ipykernel_launcher.py:2: SettingWithCopyWarning: \n",
      "A value is trying to be set on a copy of a slice from a DataFrame\n",
      "\n",
      "See the caveats in the documentation: http://pandas.pydata.org/pandas-docs/stable/indexing.html#indexing-view-versus-copy\n",
      "  \n",
      "C:\\Users\\Bada Rock\\AppData\\Local\\conda\\conda\\envs\\tensorflow\\lib\\site-packages\\ipykernel_launcher.py:29: FutureWarning: reshape is deprecated and will raise in a subsequent release. Please use .values.reshape(...) instead\n"
     ]
    }
   ],
   "source": [
    "#Setting the number of issues of the July month to its predicted value: \n",
    "input_data_sixmonths.IssuesInMonth[0] = prediction_july\n",
    "input_data_sixmonths\n",
    "\n",
    "#Taking all two rows 5 features of the previous month: \n",
    "temp_1 = input_data_sixmonths.loc[0:1]\n",
    "temp_1 = temp_1.reset_index(drop=True)\n",
    "temp_1.columns = ['Month_number', 'Year', 'TransfersInMonth', 'BusinessDaysInMonth', 'IssuesInMonth']\n",
    "print(temp_1)\n",
    "\n",
    "#Taking two rows of 4 features from the Test_data.csv file: \n",
    "temp_2 = input_data_sixmonths.loc[1:2]\n",
    "temp_2 = temp_2.reset_index(drop=True)\n",
    "del temp_2['IssuesInMonth']\n",
    "print(temp_2)\n",
    "\n",
    "#Concatenating both the above dataframes: \n",
    "august_2017_input_data = pd.concat((temp_1, temp_2), axis=1)\n",
    "print(august_2017_input_data)\n",
    "\n",
    "#Choosing just the first row of the dataframe to get the Input features for predicting\n",
    "#the number of issues in the July Month: \n",
    "august_2017_input_data = august_2017_input_data.loc[0]\n",
    "print(august_2017_input_data)\n",
    "print(type(august_2017_input_data))\n",
    "\n",
    "#Predictions:\n",
    "#As it is a single sample, we have to reshape it: \n",
    "august_2017_input_data = august_2017_input_data.reshape(1, -1)\n",
    "\n",
    "#Predictions for that single sample: \n",
    "prediction_august = lm.predict(august_2017_input_data)\n",
    "print('\\n Prediction for August-> \\n', prediction_august)"
   ]
  },
  {
   "cell_type": "markdown",
   "metadata": {},
   "source": [
    "##### Predictions for September, 2017:"
   ]
  },
  {
   "cell_type": "code",
   "execution_count": 57,
   "metadata": {
    "scrolled": true
   },
   "outputs": [
    {
     "name": "stdout",
     "output_type": "stream",
     "text": [
      "   Month_number  Year  TransfersInMonth  BusinessDaysInMonth  IssuesInMonth\n",
      "0             8  2017           1021590                 22.0   1.112349e+06\n",
      "1             9  2017           1010038                 21.0   7.132466e-01\n",
      "   Month_number_1  Year_1  TransfersInMonth_1  BusinessDaysInMonth_1\n",
      "0               9    2017             1010038                   21.0\n",
      "1              10    2017             1067153                   27.5\n",
      "   Month_number  Year  TransfersInMonth  BusinessDaysInMonth  IssuesInMonth  \\\n",
      "0             8  2017           1021590                 22.0   1.112349e+06   \n",
      "1             9  2017           1010038                 21.0   7.132466e-01   \n",
      "\n",
      "   Month_number_1  Year_1  TransfersInMonth_1  BusinessDaysInMonth_1  \n",
      "0               9    2017             1010038                   21.0  \n",
      "1              10    2017             1067153                   27.5  \n",
      "Month_number             8.000000e+00\n",
      "Year                     2.017000e+03\n",
      "TransfersInMonth         1.021590e+06\n",
      "BusinessDaysInMonth      2.200000e+01\n",
      "IssuesInMonth            1.112349e+06\n",
      "Month_number_1           9.000000e+00\n",
      "Year_1                   2.017000e+03\n",
      "TransfersInMonth_1       1.010038e+06\n",
      "BusinessDaysInMonth_1    2.100000e+01\n",
      "Name: 0, dtype: float64\n",
      "<class 'pandas.core.series.Series'>\n",
      "\n",
      " Predictions-> \n",
      " [1100025.14543828]\n"
     ]
    },
    {
     "name": "stderr",
     "output_type": "stream",
     "text": [
      "C:\\Users\\Bada Rock\\AppData\\Local\\conda\\conda\\envs\\tensorflow\\lib\\site-packages\\ipykernel_launcher.py:2: SettingWithCopyWarning: \n",
      "A value is trying to be set on a copy of a slice from a DataFrame\n",
      "\n",
      "See the caveats in the documentation: http://pandas.pydata.org/pandas-docs/stable/indexing.html#indexing-view-versus-copy\n",
      "  \n",
      "C:\\Users\\Bada Rock\\AppData\\Local\\conda\\conda\\envs\\tensorflow\\lib\\site-packages\\ipykernel_launcher.py:29: FutureWarning: reshape is deprecated and will raise in a subsequent release. Please use .values.reshape(...) instead\n"
     ]
    }
   ],
   "source": [
    "#Setting the number of issues of the July month to its predicted value: \n",
    "input_data_sixmonths.IssuesInMonth[1] = prediction_august\n",
    "input_data_sixmonths\n",
    "\n",
    "#Taking all two rows 5 features of the previous month: \n",
    "temp_1 = input_data_sixmonths.loc[1:2]\n",
    "temp_1 = temp_1.reset_index(drop=True)\n",
    "temp_1.columns = ['Month_number', 'Year', 'TransfersInMonth', 'BusinessDaysInMonth', 'IssuesInMonth']\n",
    "print(temp_1)\n",
    "\n",
    "#Taking two rows of 4 features from the Test_data.csv file: \n",
    "temp_2 = input_data_sixmonths.loc[2:3]\n",
    "temp_2 = temp_2.reset_index(drop=True)\n",
    "del temp_2['IssuesInMonth']\n",
    "print(temp_2)\n",
    "\n",
    "#Concatenating both the above dataframes: \n",
    "september_2017_input_data = pd.concat((temp_1, temp_2), axis=1)\n",
    "print(september_2017_input_data)\n",
    "\n",
    "#Choosing just the first row of the dataframe to get the Input features for predicting\n",
    "#the number of issues in the July Month: \n",
    "september_2017_input_data = september_2017_input_data.loc[0]\n",
    "print(september_2017_input_data)\n",
    "print(type(september_2017_input_data))\n",
    "\n",
    "#Predictions \n",
    "#As it is a single sample, we have to reshape it: \n",
    "september_2017_input_data = september_2017_input_data.reshape(1, -1)\n",
    "\n",
    "#Predictions for that single sample: \n",
    "prediction_september = lm.predict(september_2017_input_data)\n",
    "print('\\n Predictions-> \\n', prediction_september)"
   ]
  },
  {
   "cell_type": "markdown",
   "metadata": {},
   "source": [
    "##### Predictions for October, 2017:"
   ]
  },
  {
   "cell_type": "code",
   "execution_count": 58,
   "metadata": {
    "scrolled": false
   },
   "outputs": [
    {
     "name": "stdout",
     "output_type": "stream",
     "text": [
      "   Month_number  Year  TransfersInMonth  BusinessDaysInMonth  IssuesInMonth\n",
      "0             9  2017           1010038                 21.0   1.100025e+06\n",
      "1            10  2017           1067153                 27.5   1.361150e+00\n",
      "   Month_number_1  Year_1  TransfersInMonth_1  BusinessDaysInMonth_1\n",
      "0              10    2017             1067153                   27.5\n",
      "1              11    2017             1042316                   20.5\n",
      "   Month_number  Year  TransfersInMonth  BusinessDaysInMonth  IssuesInMonth  \\\n",
      "0             9  2017           1010038                 21.0   1.100025e+06   \n",
      "1            10  2017           1067153                 27.5   1.361150e+00   \n",
      "\n",
      "   Month_number_1  Year_1  TransfersInMonth_1  BusinessDaysInMonth_1  \n",
      "0              10    2017             1067153                   27.5  \n",
      "1              11    2017             1042316                   20.5  \n",
      "Month_number             9.000000e+00\n",
      "Year                     2.017000e+03\n",
      "TransfersInMonth         1.010038e+06\n",
      "BusinessDaysInMonth      2.100000e+01\n",
      "IssuesInMonth            1.100025e+06\n",
      "Month_number_1           1.000000e+01\n",
      "Year_1                   2.017000e+03\n",
      "TransfersInMonth_1       1.067153e+06\n",
      "BusinessDaysInMonth_1    2.750000e+01\n",
      "Name: 0, dtype: float64\n",
      "<class 'pandas.core.series.Series'>\n",
      "\n",
      " Predictions-> \n",
      " [1073697.08047789]\n"
     ]
    },
    {
     "name": "stderr",
     "output_type": "stream",
     "text": [
      "C:\\Users\\Bada Rock\\AppData\\Local\\conda\\conda\\envs\\tensorflow\\lib\\site-packages\\ipykernel_launcher.py:2: SettingWithCopyWarning: \n",
      "A value is trying to be set on a copy of a slice from a DataFrame\n",
      "\n",
      "See the caveats in the documentation: http://pandas.pydata.org/pandas-docs/stable/indexing.html#indexing-view-versus-copy\n",
      "  \n",
      "C:\\Users\\Bada Rock\\AppData\\Local\\conda\\conda\\envs\\tensorflow\\lib\\site-packages\\ipykernel_launcher.py:29: FutureWarning: reshape is deprecated and will raise in a subsequent release. Please use .values.reshape(...) instead\n"
     ]
    }
   ],
   "source": [
    "#Setting the number of issues of the July month to its predicted value: \n",
    "input_data_sixmonths.IssuesInMonth[2] = prediction_september\n",
    "input_data_sixmonths\n",
    "\n",
    "#Taking all two rows 5 features of the previous month: \n",
    "temp_1 = input_data_sixmonths.loc[2:3]\n",
    "temp_1 = temp_1.reset_index(drop=True)\n",
    "temp_1.columns = ['Month_number', 'Year', 'TransfersInMonth', 'BusinessDaysInMonth', 'IssuesInMonth']\n",
    "print(temp_1)\n",
    "\n",
    "#Taking two rows of 4 features from the Test_data.csv file: \n",
    "temp_2 = input_data_sixmonths.loc[3:4]\n",
    "temp_2 = temp_2.reset_index(drop=True)\n",
    "del temp_2['IssuesInMonth']\n",
    "print(temp_2)\n",
    "\n",
    "#Concatenating both the above dataframes: \n",
    "october_2017_input_data = pd.concat((temp_1, temp_2), axis=1)\n",
    "print(october_2017_input_data)\n",
    "\n",
    "#Choosing just the first row of the dataframe to get the Input features for predicting\n",
    "#the number of issues in the July Month: \n",
    "october_2017_input_data = october_2017_input_data.loc[0]\n",
    "print(october_2017_input_data)\n",
    "print(type(october_2017_input_data))\n",
    "\n",
    "#Predictions \n",
    "#As it is a single sample, we have to reshape it: \n",
    "october_2017_input_data = october_2017_input_data.reshape(1, -1)\n",
    "\n",
    "#Predictions for that single sample: \n",
    "prediction_october = lm.predict(october_2017_input_data)\n",
    "print('\\n Predictions-> \\n', prediction_october)"
   ]
  },
  {
   "cell_type": "markdown",
   "metadata": {},
   "source": [
    "##### Predictions for November, 2017:"
   ]
  },
  {
   "cell_type": "code",
   "execution_count": 59,
   "metadata": {
    "scrolled": false
   },
   "outputs": [
    {
     "name": "stdout",
     "output_type": "stream",
     "text": [
      "   Month_number  Year  TransfersInMonth  BusinessDaysInMonth  IssuesInMonth\n",
      "0            10  2017           1067153                 27.5   1.073697e+06\n",
      "1            11  2017           1042316                 20.5   1.014424e+00\n",
      "   Month_number_1  Year_1  TransfersInMonth_1  BusinessDaysInMonth_1\n",
      "0              11    2017             1042316                   20.5\n",
      "1              12    2017             1059981                   20.0\n",
      "   Month_number  Year  TransfersInMonth  BusinessDaysInMonth  IssuesInMonth  \\\n",
      "0            10  2017           1067153                 27.5   1.073697e+06   \n",
      "1            11  2017           1042316                 20.5   1.014424e+00   \n",
      "\n",
      "   Month_number_1  Year_1  TransfersInMonth_1  BusinessDaysInMonth_1  \n",
      "0              11    2017             1042316                   20.5  \n",
      "1              12    2017             1059981                   20.0  \n",
      "Month_number             1.000000e+01\n",
      "Year                     2.017000e+03\n",
      "TransfersInMonth         1.067153e+06\n",
      "BusinessDaysInMonth      2.750000e+01\n",
      "IssuesInMonth            1.073697e+06\n",
      "Month_number_1           1.100000e+01\n",
      "Year_1                   2.017000e+03\n",
      "TransfersInMonth_1       1.042316e+06\n",
      "BusinessDaysInMonth_1    2.050000e+01\n",
      "Name: 0, dtype: float64\n",
      "<class 'pandas.core.series.Series'>\n",
      "\n",
      " Predictions-> \n",
      " [1098837.03463813]\n"
     ]
    },
    {
     "name": "stderr",
     "output_type": "stream",
     "text": [
      "C:\\Users\\Bada Rock\\AppData\\Local\\conda\\conda\\envs\\tensorflow\\lib\\site-packages\\ipykernel_launcher.py:2: SettingWithCopyWarning: \n",
      "A value is trying to be set on a copy of a slice from a DataFrame\n",
      "\n",
      "See the caveats in the documentation: http://pandas.pydata.org/pandas-docs/stable/indexing.html#indexing-view-versus-copy\n",
      "  \n",
      "C:\\Users\\Bada Rock\\AppData\\Local\\conda\\conda\\envs\\tensorflow\\lib\\site-packages\\ipykernel_launcher.py:29: FutureWarning: reshape is deprecated and will raise in a subsequent release. Please use .values.reshape(...) instead\n"
     ]
    }
   ],
   "source": [
    "#Setting the number of issues of the July month to its predicted value: \n",
    "input_data_sixmonths.IssuesInMonth[3] = prediction_october\n",
    "input_data_sixmonths\n",
    "\n",
    "#Taking all two rows 5 features of the previous month: \n",
    "temp_1 = input_data_sixmonths.loc[3:4]\n",
    "temp_1 = temp_1.reset_index(drop=True)\n",
    "temp_1.columns = ['Month_number', 'Year', 'TransfersInMonth', 'BusinessDaysInMonth', 'IssuesInMonth']\n",
    "print(temp_1)\n",
    "\n",
    "#Taking two rows of 4 features from the Test_data.csv file: \n",
    "temp_2 = input_data_sixmonths.loc[4:5]\n",
    "temp_2 = temp_2.reset_index(drop=True)\n",
    "del temp_2['IssuesInMonth']\n",
    "print(temp_2)\n",
    "\n",
    "#Concatenating both the above dataframes: \n",
    "november_2017_input_data = pd.concat((temp_1, temp_2), axis=1)\n",
    "print(november_2017_input_data)\n",
    "\n",
    "#Choosing just the first row of the dataframe to get the Input features for predicting\n",
    "#the number of issues in the July Month: \n",
    "november_2017_input_data = november_2017_input_data.loc[0]\n",
    "print(november_2017_input_data)\n",
    "print(type(november_2017_input_data))\n",
    "\n",
    "#Predictions \n",
    "#As it is a single sample, we have to reshape it: \n",
    "november_2017_input_data = november_2017_input_data.reshape(1, -1)\n",
    "\n",
    "#Predictions for that single sample: \n",
    "prediction_november = lm.predict(november_2017_input_data)\n",
    "print('\\n Predictions-> \\n', prediction_november)"
   ]
  },
  {
   "cell_type": "markdown",
   "metadata": {},
   "source": [
    "##### Predictions for December, 2017:"
   ]
  },
  {
   "cell_type": "code",
   "execution_count": 60,
   "metadata": {
    "scrolled": true
   },
   "outputs": [
    {
     "name": "stdout",
     "output_type": "stream",
     "text": [
      "   Month_number  Year  TransfersInMonth  BusinessDaysInMonth  IssuesInMonth\n",
      "0            11  2017           1042316                 20.5   1.098837e+06\n",
      "1            12  2017           1059981                 20.0   1.458802e-02\n",
      "   Month_number_1  Year_1  TransfersInMonth_1  BusinessDaysInMonth_1\n",
      "0              12    2017             1059981                   20.0\n",
      "1              11    2017             1042316                   20.5\n",
      "   Month_number  Year  TransfersInMonth  BusinessDaysInMonth  IssuesInMonth  \\\n",
      "0            11  2017           1042316                 20.5   1.098837e+06   \n",
      "1            12  2017           1059981                 20.0   1.458802e-02   \n",
      "\n",
      "   Month_number_1  Year_1  TransfersInMonth_1  BusinessDaysInMonth_1  \n",
      "0              12    2017             1059981                   20.0  \n",
      "1              11    2017             1042316                   20.5  \n",
      "Month_number             1.100000e+01\n",
      "Year                     2.017000e+03\n",
      "TransfersInMonth         1.042316e+06\n",
      "BusinessDaysInMonth      2.050000e+01\n",
      "IssuesInMonth            1.098837e+06\n",
      "Month_number_1           1.200000e+01\n",
      "Year_1                   2.017000e+03\n",
      "TransfersInMonth_1       1.059981e+06\n",
      "BusinessDaysInMonth_1    2.000000e+01\n",
      "Name: 0, dtype: float64\n",
      "<class 'pandas.core.series.Series'>\n",
      "\n",
      " Predictions-> \n",
      " [1091624.55442457]\n"
     ]
    },
    {
     "name": "stderr",
     "output_type": "stream",
     "text": [
      "C:\\Users\\Bada Rock\\AppData\\Local\\conda\\conda\\envs\\tensorflow\\lib\\site-packages\\ipykernel_launcher.py:2: SettingWithCopyWarning: \n",
      "A value is trying to be set on a copy of a slice from a DataFrame\n",
      "\n",
      "See the caveats in the documentation: http://pandas.pydata.org/pandas-docs/stable/indexing.html#indexing-view-versus-copy\n",
      "  \n",
      "C:\\Users\\Bada Rock\\AppData\\Local\\conda\\conda\\envs\\tensorflow\\lib\\site-packages\\ipykernel_launcher.py:30: FutureWarning: reshape is deprecated and will raise in a subsequent release. Please use .values.reshape(...) instead\n"
     ]
    }
   ],
   "source": [
    "#Setting the number of issues of the July month to its predicted value: \n",
    "input_data_sixmonths.IssuesInMonth[4] = prediction_november\n",
    "input_data_sixmonths\n",
    "\n",
    "#Taking all two rows 5 features of the previous month: \n",
    "temp_1 = input_data_sixmonths.loc[4:5]\n",
    "temp_1 = temp_1.reset_index(drop=True)\n",
    "temp_1.columns = ['Month_number', 'Year', 'TransfersInMonth', 'BusinessDaysInMonth', 'IssuesInMonth']\n",
    "print(temp_1)\n",
    "\n",
    "#Taking two rows of 4 features from the Test_data.csv file: \n",
    "temp_2 = input_data_sixmonths.loc[4:5]\n",
    "temp_2 = temp_2.sort_values(['Month_number_1'], ascending=False)\n",
    "temp_2 = temp_2.reset_index(drop=True)\n",
    "del temp_2['IssuesInMonth']\n",
    "print(temp_2)\n",
    "\n",
    "#Concatenating both the above dataframes:\n",
    "december_2017_input_data = pd.concat((temp_1, temp_2), axis=1)\n",
    "print(december_2017_input_data)\n",
    "\n",
    "#Choosing just the first row of the dataframe to get the Input features for predicting\n",
    "#the number of issues in the July Month: \n",
    "december_2017_input_data = december_2017_input_data.loc[0]\n",
    "print(december_2017_input_data)\n",
    "print(type(december_2017_input_data))\n",
    "\n",
    "#Predictions \n",
    "#As it is a single sample, we have to reshape it: \n",
    "december_2017_input_data = december_2017_input_data.reshape(1, -1)\n",
    "\n",
    "#Predictions for that single sample: \n",
    "prediction_december = lm.predict(december_2017_input_data)\n",
    "print('\\n Predictions-> \\n', prediction_december)"
   ]
  },
  {
   "cell_type": "markdown",
   "metadata": {},
   "source": [
    " "
   ]
  },
  {
   "cell_type": "markdown",
   "metadata": {},
   "source": [
    "# Final Submission Output"
   ]
  },
  {
   "cell_type": "code",
   "execution_count": 61,
   "metadata": {
    "scrolled": false
   },
   "outputs": [
    {
     "name": "stdout",
     "output_type": "stream",
     "text": [
      "Final output prediction dataframe: \n",
      "    Month_number_1  Year_1  TransfersInMonth_1  BusinessDaysInMonth_1  \\\n",
      "0               7    2017             1056019                   27.0   \n",
      "1               8    2017             1021590                   22.0   \n",
      "2               9    2017             1010038                   21.0   \n",
      "3              10    2017             1067153                   27.5   \n",
      "4              11    2017             1042316                   20.5   \n",
      "5              12    2017             1059981                   20.0   \n",
      "\n",
      "   IssuesInMonth  \n",
      "0   1.104446e+06  \n",
      "1   1.112349e+06  \n",
      "2   1.100025e+06  \n",
      "3   1.073697e+06  \n",
      "4   1.098837e+06  \n",
      "5   1.091625e+06  \n"
     ]
    },
    {
     "name": "stderr",
     "output_type": "stream",
     "text": [
      "C:\\Users\\Bada Rock\\AppData\\Local\\conda\\conda\\envs\\tensorflow\\lib\\site-packages\\ipykernel_launcher.py:2: SettingWithCopyWarning: \n",
      "A value is trying to be set on a copy of a slice from a DataFrame\n",
      "\n",
      "See the caveats in the documentation: http://pandas.pydata.org/pandas-docs/stable/indexing.html#indexing-view-versus-copy\n",
      "  \n"
     ]
    }
   ],
   "source": [
    "#Setting the final value of \n",
    "input_data_sixmonths.IssuesInMonth[5] = prediction_december\n",
    "print('Final output prediction dataframe: \\n', input_data_sixmonths)"
   ]
  },
  {
   "cell_type": "markdown",
   "metadata": {},
   "source": [
    "### Plotting the Forecasted Output on the true values of Issues of after 2010"
   ]
  },
  {
   "cell_type": "code",
   "execution_count": 68,
   "metadata": {},
   "outputs": [
    {
     "name": "stdout",
     "output_type": "stream",
     "text": [
      "    Month_number  Year  TransfersInMonth  BusinessDaysInMonth  IssuesInMonth\n",
      "0              1  2010            730797                 22.5   7.728910e+05\n",
      "1              2  2010            751537                 21.5   8.080160e+05\n",
      "2              3  2010            790163                 22.0   8.255550e+05\n",
      "3              4  2010            780467                 27.5   8.087470e+05\n",
      "4              5  2010            785663                 22.0   8.522750e+05\n",
      "5              6  2010            881460                 24.0   8.612420e+05\n",
      "6              7  2010            833250                 23.5   8.409470e+05\n",
      "7              8  2010            817674                 22.0   8.483390e+05\n",
      "8              9  2010            794917                 21.0   8.681760e+05\n",
      "9             10  2010            811274                 27.5   8.116270e+05\n",
      "10            11  2010            770833                 20.5   8.202540e+05\n",
      "11            12  2010            800052                 25.5   7.789140e+05\n",
      "12             1  2011            784820                 26.5   8.123430e+05\n",
      "13             2  2011            773179                 21.5   8.278000e+05\n",
      "14             3  2011            800117                 22.0   8.329890e+05\n",
      "15             4  2011            793275                 27.5   8.451300e+05\n",
      "16             5  2011            813076                 21.0   8.837900e+05\n",
      "17             6  2011            866390                 20.5   8.812860e+05\n",
      "18             7  2011            849706                 28.0   8.534420e+05\n",
      "19             8  2011            809450                 22.0   8.694830e+05\n",
      "20             9  2011            822822                 21.0   8.827150e+05\n",
      "21            10  2011            853560                 27.5   8.425050e+05\n",
      "22            11  2011            797262                 20.5   8.337550e+05\n",
      "23            12  2011            836347                 21.0   7.881990e+05\n",
      "24             1  2012            814864                 26.5   8.188090e+05\n",
      "25             2  2012            774393                 22.0   8.473480e+05\n",
      "26             3  2012            804513                 22.0   8.696060e+05\n",
      "27             4  2012            827810                 27.5   8.670720e+05\n",
      "28             5  2012            823290                 21.0   9.246360e+05\n",
      "29             6  2012            885717                 22.0   9.196650e+05\n",
      "..           ...   ...               ...                  ...            ...\n",
      "66             7  2015            963848                 24.5   1.026064e+06\n",
      "67             8  2015            961831                 22.0   1.035764e+06\n",
      "68             9  2015            956732                 21.0   1.050853e+06\n",
      "69            10  2015            965195                 27.5   9.985310e+05\n",
      "70            11  2015            953473                 20.5   1.023173e+06\n",
      "71            12  2015            967744                 24.0   1.025357e+06\n",
      "72             1  2016            998827                 22.5   9.870510e+05\n",
      "73             2  2016            954858                 22.0   1.011636e+06\n",
      "74             3  2016            943432                 22.0   1.022201e+06\n",
      "75             4  2016            989685                 27.5   1.008830e+06\n",
      "76             5  2016            958739                 22.0   1.075022e+06\n",
      "77             6  2016           1020031                 25.0   1.111690e+06\n",
      "78             7  2016           1062011                 28.0   1.067078e+06\n",
      "79             8  2016           1003646                 22.0   1.085209e+06\n",
      "80             9  2016           1025005                 21.0   1.069346e+06\n",
      "81            10  2016           1011968                 27.5   1.028791e+06\n",
      "82            11  2016            968428                 20.5   1.028815e+06\n",
      "83            12  2016            989192                 21.0   9.819800e+05\n",
      "84             1  2017            996091                 26.5   1.021160e+06\n",
      "85             2  2017            928621                 22.0   1.005903e+06\n",
      "86             3  2017            927348                 22.0   1.025539e+06\n",
      "87             4  2017            988990                 27.5   1.050488e+06\n",
      "88             5  2017            978562                 21.0   1.132481e+06\n",
      "89             6  2017           1047903                 21.5   1.143552e+06\n",
      "90             7  2017           1056019                 27.0   1.104446e+06\n",
      "91             8  2017           1021590                 22.0   1.112349e+06\n",
      "92             9  2017           1010038                 21.0   1.100025e+06\n",
      "93            10  2017           1067153                 27.5   1.073697e+06\n",
      "94            11  2017           1042316                 20.5   1.098837e+06\n",
      "95            12  2017           1059981                 20.0   1.091625e+06\n",
      "\n",
      "[96 rows x 5 columns]\n"
     ]
    }
   ],
   "source": [
    "input_data_sixmonths.columns =  ['Month_number', 'Year', 'TransfersInMonth', 'BusinessDaysInMonth', 'IssuesInMonth']\n",
    "forecast_truevalues_combined = pd.concat((pallets_df_2010, input_data_sixmonths), axis=0 )\n",
    "forecast_truevalues_combined = forecast_truevalues_combined.reset_index(drop=True)\n",
    "print(forecast_truevalues_combined)"
   ]
  },
  {
   "cell_type": "code",
   "execution_count": 74,
   "metadata": {
    "scrolled": false
   },
   "outputs": [
    {
     "data": {
      "image/png": "[encoded data removed]",
      "text/plain": [
       "<matplotlib.figure.Figure at 0x21d9a734048>"
      ]
     },
     "metadata": {},
     "output_type": "display_data"
    }
   ],
   "source": [
    "\n",
    "plt.plot(forecast_truevalues_combined.IssuesInMonth.iloc[0:90], 'r', forecast_truevalues_combined.IssuesInMonth.iloc[89:94], 'b')\n",
    "plt.savefig('forecast_plotted.png')"
   ]
  }
 ],
 "metadata": {
  "kernelspec": {
   "display_name": "Python 3",
   "language": "python",
   "name": "python3"
  },
  "language_info": {
   "codemirror_mode": {
    "name": "ipython",
    "version": 3
   },
   "file_extension": ".py",
   "mimetype": "text/x-python",
   "name": "python",
   "nbconvert_exporter": "python",
   "pygments_lexer": "ipython3",
   "version": "3.6.3"
  }
 },
 "nbformat": 4,
 "nbformat_minor": 2
}
