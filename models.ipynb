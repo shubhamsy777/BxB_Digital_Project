{
 "cells": [
  {
   "cell_type": "markdown",
   "metadata": {},
   "source": [
    "Author: Shubham Singh Yadav\n"
   ]
  },
  {
   "cell_type": "markdown",
   "metadata": {},
   "source": [
    "This notebook contains the different models that I tried during my BxB Digital Project. To run and test any of these, just put these codes in the under the main Notebook's subheading 'Constructing Models'. "
   ]
  },
  {
   "cell_type": "markdown",
   "metadata": {},
   "source": [
    "##### Linear, LinearSVR"
   ]
  },
  {
   "cell_type": "code",
   "execution_count": null,
   "metadata": {},
   "outputs": [],
   "source": [
    "#Creating models:\n",
    "C = 1e3\n",
    "svm_m = sklearn.svm.LinearSVR(C, loss='squared_epsilon_insensitive',random_state=7)\n",
    "\n",
    "#Fitting the model: \n",
    "svm_model_LinearSVR = svm_m.fit(X_train,y_train)\n",
    "\n",
    "#Predictions: \n",
    "predictions_LinearSVR = svm_model.predict(X_test)\n",
    "print('\\n Predictions-> \\n', predictions_LinearSVR)\n",
    "print('\\n True values were -> \\n', y_test)\n",
    "\n",
    "#Calculating MAPE:\n",
    "MAPE_on_LinearSVR = mean_absolute_percentage_error(y_test, predictions_LinearSVR)\n",
    "print('The MAPE on the LinearSVR is: \\n', MAPE_on_LinearSVR)from sklearn.model_selection import GridSearchCV\n"
   ]
  },
  {
   "cell_type": "markdown",
   "metadata": {},
   "source": [
    "##### Non-linear SVR"
   ]
  },
  {
   "cell_type": "code",
   "execution_count": null,
   "metadata": {},
   "outputs": [],
   "source": [
    "C = 1e3\n",
    "kernel = 'rbf'\n",
    "\n",
    "#Creating a SVR Model:\n",
    "svm_SVR = sklearn.svm.SVR(C, kernel, epsilon = 0.1)\n",
    "\n",
    "#Fitting the model with the best parameters: \n",
    "svm_model_SVR = svm_SVR.fit(X_train,y_train)\n",
    "\n",
    "#Predictions on test set: \n",
    "predictions_SVR = svm_model_SVR.predict(X_test)\n",
    "print('\\n Predictions-> \\n', predictions_SVR)\n",
    "print('\\n True values were -> \\n', y_test)\n",
    "\n",
    "#Calculating MAPE:\n",
    "MAPE_on_SVR = mean_absolute_percentage_error(y_test, predictions_SVR)\n",
    "print('The MAPE on the LinearSVR is: \\n', MAPE_on_SVR)"
   ]
  },
  {
   "cell_type": "code",
   "execution_count": null,
   "metadata": {
    "scrolled": true
   },
   "outputs": [],
   "source": []
  },
  {
   "cell_type": "code",
   "execution_count": null,
   "metadata": {},
   "outputs": [],
   "source": []
  },
  {
   "cell_type": "code",
   "execution_count": null,
   "metadata": {},
   "outputs": [],
   "source": []
  }
 ],
 "metadata": {
  "kernelspec": {
   "display_name": "Python 3",
   "language": "python",
   "name": "python3"
  },
  "language_info": {
   "codemirror_mode": {
    "name": "ipython",
    "version": 3
   },
   "file_extension": ".py",
   "mimetype": "text/x-python",
   "name": "python",
   "nbconvert_exporter": "python",
   "pygments_lexer": "ipython3",
   "version": "3.6.3"
  }
 },
 "nbformat": 4,
 "nbformat_minor": 2
}
